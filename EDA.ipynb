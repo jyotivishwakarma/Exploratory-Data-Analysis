{
 "cells": [
  {
   "cell_type": "code",
   "execution_count": 5,
   "metadata": {},
   "outputs": [
    {
     "data": {
      "text/html": [
       "<div>\n",
       "<style scoped>\n",
       "    .dataframe tbody tr th:only-of-type {\n",
       "        vertical-align: middle;\n",
       "    }\n",
       "\n",
       "    .dataframe tbody tr th {\n",
       "        vertical-align: top;\n",
       "    }\n",
       "\n",
       "    .dataframe thead th {\n",
       "        text-align: right;\n",
       "    }\n",
       "</style>\n",
       "<table border=\"1\" class=\"dataframe\">\n",
       "  <thead>\n",
       "    <tr style=\"text-align: right;\">\n",
       "      <th></th>\n",
       "      <th>id</th>\n",
       "      <th>member_id</th>\n",
       "      <th>loan_amnt</th>\n",
       "      <th>funded_amnt</th>\n",
       "      <th>funded_amnt_inv</th>\n",
       "      <th>term</th>\n",
       "      <th>int_rate</th>\n",
       "      <th>installment</th>\n",
       "      <th>grade</th>\n",
       "      <th>sub_grade</th>\n",
       "      <th>...</th>\n",
       "      <th>num_tl_90g_dpd_24m</th>\n",
       "      <th>num_tl_op_past_12m</th>\n",
       "      <th>pct_tl_nvr_dlq</th>\n",
       "      <th>percent_bc_gt_75</th>\n",
       "      <th>pub_rec_bankruptcies</th>\n",
       "      <th>tax_liens</th>\n",
       "      <th>tot_hi_cred_lim</th>\n",
       "      <th>total_bal_ex_mort</th>\n",
       "      <th>total_bc_limit</th>\n",
       "      <th>total_il_high_credit_limit</th>\n",
       "    </tr>\n",
       "  </thead>\n",
       "  <tbody>\n",
       "    <tr>\n",
       "      <th>0</th>\n",
       "      <td>1077501</td>\n",
       "      <td>1296599</td>\n",
       "      <td>5000</td>\n",
       "      <td>5000</td>\n",
       "      <td>4975.0</td>\n",
       "      <td>36 months</td>\n",
       "      <td>10.65%</td>\n",
       "      <td>162.87</td>\n",
       "      <td>B</td>\n",
       "      <td>B2</td>\n",
       "      <td>...</td>\n",
       "      <td>NaN</td>\n",
       "      <td>NaN</td>\n",
       "      <td>NaN</td>\n",
       "      <td>NaN</td>\n",
       "      <td>0.0</td>\n",
       "      <td>0.0</td>\n",
       "      <td>NaN</td>\n",
       "      <td>NaN</td>\n",
       "      <td>NaN</td>\n",
       "      <td>NaN</td>\n",
       "    </tr>\n",
       "    <tr>\n",
       "      <th>1</th>\n",
       "      <td>1077430</td>\n",
       "      <td>1314167</td>\n",
       "      <td>2500</td>\n",
       "      <td>2500</td>\n",
       "      <td>2500.0</td>\n",
       "      <td>60 months</td>\n",
       "      <td>15.27%</td>\n",
       "      <td>59.83</td>\n",
       "      <td>C</td>\n",
       "      <td>C4</td>\n",
       "      <td>...</td>\n",
       "      <td>NaN</td>\n",
       "      <td>NaN</td>\n",
       "      <td>NaN</td>\n",
       "      <td>NaN</td>\n",
       "      <td>0.0</td>\n",
       "      <td>0.0</td>\n",
       "      <td>NaN</td>\n",
       "      <td>NaN</td>\n",
       "      <td>NaN</td>\n",
       "      <td>NaN</td>\n",
       "    </tr>\n",
       "    <tr>\n",
       "      <th>2</th>\n",
       "      <td>1077175</td>\n",
       "      <td>1313524</td>\n",
       "      <td>2400</td>\n",
       "      <td>2400</td>\n",
       "      <td>2400.0</td>\n",
       "      <td>36 months</td>\n",
       "      <td>15.96%</td>\n",
       "      <td>84.33</td>\n",
       "      <td>C</td>\n",
       "      <td>C5</td>\n",
       "      <td>...</td>\n",
       "      <td>NaN</td>\n",
       "      <td>NaN</td>\n",
       "      <td>NaN</td>\n",
       "      <td>NaN</td>\n",
       "      <td>0.0</td>\n",
       "      <td>0.0</td>\n",
       "      <td>NaN</td>\n",
       "      <td>NaN</td>\n",
       "      <td>NaN</td>\n",
       "      <td>NaN</td>\n",
       "    </tr>\n",
       "    <tr>\n",
       "      <th>3</th>\n",
       "      <td>1076863</td>\n",
       "      <td>1277178</td>\n",
       "      <td>10000</td>\n",
       "      <td>10000</td>\n",
       "      <td>10000.0</td>\n",
       "      <td>36 months</td>\n",
       "      <td>13.49%</td>\n",
       "      <td>339.31</td>\n",
       "      <td>C</td>\n",
       "      <td>C1</td>\n",
       "      <td>...</td>\n",
       "      <td>NaN</td>\n",
       "      <td>NaN</td>\n",
       "      <td>NaN</td>\n",
       "      <td>NaN</td>\n",
       "      <td>0.0</td>\n",
       "      <td>0.0</td>\n",
       "      <td>NaN</td>\n",
       "      <td>NaN</td>\n",
       "      <td>NaN</td>\n",
       "      <td>NaN</td>\n",
       "    </tr>\n",
       "    <tr>\n",
       "      <th>4</th>\n",
       "      <td>1075358</td>\n",
       "      <td>1311748</td>\n",
       "      <td>3000</td>\n",
       "      <td>3000</td>\n",
       "      <td>3000.0</td>\n",
       "      <td>60 months</td>\n",
       "      <td>12.69%</td>\n",
       "      <td>67.79</td>\n",
       "      <td>B</td>\n",
       "      <td>B5</td>\n",
       "      <td>...</td>\n",
       "      <td>NaN</td>\n",
       "      <td>NaN</td>\n",
       "      <td>NaN</td>\n",
       "      <td>NaN</td>\n",
       "      <td>0.0</td>\n",
       "      <td>0.0</td>\n",
       "      <td>NaN</td>\n",
       "      <td>NaN</td>\n",
       "      <td>NaN</td>\n",
       "      <td>NaN</td>\n",
       "    </tr>\n",
       "  </tbody>\n",
       "</table>\n",
       "<p>5 rows × 111 columns</p>\n",
       "</div>"
      ],
      "text/plain": [
       "        id  member_id  loan_amnt  funded_amnt  funded_amnt_inv        term  \\\n",
       "0  1077501    1296599       5000         5000           4975.0   36 months   \n",
       "1  1077430    1314167       2500         2500           2500.0   60 months   \n",
       "2  1077175    1313524       2400         2400           2400.0   36 months   \n",
       "3  1076863    1277178      10000        10000          10000.0   36 months   \n",
       "4  1075358    1311748       3000         3000           3000.0   60 months   \n",
       "\n",
       "  int_rate  installment grade sub_grade  ... num_tl_90g_dpd_24m  \\\n",
       "0   10.65%       162.87     B        B2  ...                NaN   \n",
       "1   15.27%        59.83     C        C4  ...                NaN   \n",
       "2   15.96%        84.33     C        C5  ...                NaN   \n",
       "3   13.49%       339.31     C        C1  ...                NaN   \n",
       "4   12.69%        67.79     B        B5  ...                NaN   \n",
       "\n",
       "  num_tl_op_past_12m pct_tl_nvr_dlq  percent_bc_gt_75 pub_rec_bankruptcies  \\\n",
       "0                NaN            NaN               NaN                  0.0   \n",
       "1                NaN            NaN               NaN                  0.0   \n",
       "2                NaN            NaN               NaN                  0.0   \n",
       "3                NaN            NaN               NaN                  0.0   \n",
       "4                NaN            NaN               NaN                  0.0   \n",
       "\n",
       "  tax_liens tot_hi_cred_lim total_bal_ex_mort total_bc_limit  \\\n",
       "0       0.0             NaN               NaN            NaN   \n",
       "1       0.0             NaN               NaN            NaN   \n",
       "2       0.0             NaN               NaN            NaN   \n",
       "3       0.0             NaN               NaN            NaN   \n",
       "4       0.0             NaN               NaN            NaN   \n",
       "\n",
       "  total_il_high_credit_limit  \n",
       "0                        NaN  \n",
       "1                        NaN  \n",
       "2                        NaN  \n",
       "3                        NaN  \n",
       "4                        NaN  \n",
       "\n",
       "[5 rows x 111 columns]"
      ]
     },
     "execution_count": 5,
     "metadata": {},
     "output_type": "execute_result"
    }
   ],
   "source": [
    "import pandas as pd\n",
    "ln = pd.read_csv(\"loan.csv\", encoding = \"utf8\")\n",
    "ln.head()"
   ]
  },
  {
   "cell_type": "markdown",
   "metadata": {},
   "source": [
    "Assumptions :\n",
    "     1. Most of the analysis are done with Target column \"loan_status\" \n",
    "     2. Analysis is done on the borrower which has loan status - Charged Off(Deafult) and Fully paid.\n",
    "        Excluded current loan Status.\n",
    "     3. Dropping all the customer behavioural variable as these variable are generated after loan approval.\n",
    "     4. some outlier is present in data with Annual income 1250000 hence needed to remove\n",
    "    "
   ]
  },
  {
   "cell_type": "code",
   "execution_count": 6,
   "metadata": {},
   "outputs": [],
   "source": [
    "#Dropping all the columns which has single variable and which are irrelavent \n",
    "ln =ln.drop(ln.loc[:, 'collections_12_mths_ex_med':].columns, axis = 1)"
   ]
  },
  {
   "cell_type": "code",
   "execution_count": 7,
   "metadata": {},
   "outputs": [
    {
     "data": {
      "text/plain": [
       "id                          0.00\n",
       "member_id                   0.00\n",
       "loan_amnt                   0.00\n",
       "funded_amnt                 0.00\n",
       "funded_amnt_inv             0.00\n",
       "term                        0.00\n",
       "int_rate                    0.00\n",
       "installment                 0.00\n",
       "grade                       0.00\n",
       "sub_grade                   0.00\n",
       "emp_title                   6.19\n",
       "emp_length                  2.71\n",
       "home_ownership              0.00\n",
       "annual_inc                  0.00\n",
       "verification_status         0.00\n",
       "issue_d                     0.00\n",
       "loan_status                 0.00\n",
       "pymnt_plan                  0.00\n",
       "url                         0.00\n",
       "desc                       32.58\n",
       "purpose                     0.00\n",
       "title                       0.03\n",
       "zip_code                    0.00\n",
       "addr_state                  0.00\n",
       "dti                         0.00\n",
       "delinq_2yrs                 0.00\n",
       "earliest_cr_line            0.00\n",
       "inq_last_6mths              0.00\n",
       "mths_since_last_delinq     64.66\n",
       "mths_since_last_record     92.99\n",
       "open_acc                    0.00\n",
       "pub_rec                     0.00\n",
       "revol_bal                   0.00\n",
       "revol_util                  0.13\n",
       "total_acc                   0.00\n",
       "initial_list_status         0.00\n",
       "out_prncp                   0.00\n",
       "out_prncp_inv               0.00\n",
       "total_pymnt                 0.00\n",
       "total_pymnt_inv             0.00\n",
       "total_rec_prncp             0.00\n",
       "total_rec_int               0.00\n",
       "total_rec_late_fee          0.00\n",
       "recoveries                  0.00\n",
       "collection_recovery_fee     0.00\n",
       "last_pymnt_d                0.18\n",
       "last_pymnt_amnt             0.00\n",
       "next_pymnt_d               97.13\n",
       "last_credit_pull_d          0.01\n",
       "dtype: float64"
      ]
     },
     "execution_count": 7,
     "metadata": {},
     "output_type": "execute_result"
    }
   ],
   "source": [
    "# check the missing value\n",
    "round(100*(ln.isnull().sum()/len(ln.index)), 2)    "
   ]
  },
  {
   "cell_type": "code",
   "execution_count": 8,
   "metadata": {},
   "outputs": [],
   "source": [
    "# following columns have more than 50 % of missing data hence dropping\n",
    "ln = ln.drop(['mths_since_last_record','mths_since_last_delinq','next_pymnt_d'], axis=1)\n",
    "\n",
    "# # some have single variable hence neede to be dropped\n",
    "ln = ln.drop(['initial_list_status','pymnt_plan'], axis=1)\n",
    "\n",
    "# Dropping all the customer behavioural variable as these variable are generated after loan approval\n",
    "ln = ln.drop(['delinq_2yrs','revol_bal','revol_util','desc','out_prncp','out_prncp_inv',\n",
    "              'total_pymnt','total_pymnt_inv','total_rec_prncp','total_rec_int','total_rec_late_fee','recoveries',\n",
    "              'collection_recovery_fee','last_pymnt_d', 'last_pymnt_amnt','out_prncp','out_prncp_inv','pub_rec'], axis=1)\n"
   ]
  },
  {
   "cell_type": "code",
   "execution_count": 9,
   "metadata": {},
   "outputs": [
    {
     "data": {
      "text/html": [
       "<style  type=\"text/css\" >\n",
       "    #T_a41cdbdc_047e_11ea_a34f_e4b31883dda2row0_col0 {\n",
       "            background-color:  #b40426;\n",
       "            color:  #f1f1f1;\n",
       "        }    #T_a41cdbdc_047e_11ea_a34f_e4b31883dda2row0_col1 {\n",
       "            background-color:  #b50927;\n",
       "            color:  #f1f1f1;\n",
       "        }    #T_a41cdbdc_047e_11ea_a34f_e4b31883dda2row0_col2 {\n",
       "            background-color:  #6485ec;\n",
       "            color:  #000000;\n",
       "        }    #T_a41cdbdc_047e_11ea_a34f_e4b31883dda2row0_col3 {\n",
       "            background-color:  #6788ee;\n",
       "            color:  #000000;\n",
       "        }    #T_a41cdbdc_047e_11ea_a34f_e4b31883dda2row0_col4 {\n",
       "            background-color:  #8db0fe;\n",
       "            color:  #000000;\n",
       "        }    #T_a41cdbdc_047e_11ea_a34f_e4b31883dda2row0_col5 {\n",
       "            background-color:  #516ddb;\n",
       "            color:  #000000;\n",
       "        }    #T_a41cdbdc_047e_11ea_a34f_e4b31883dda2row0_col6 {\n",
       "            background-color:  #5e7de7;\n",
       "            color:  #000000;\n",
       "        }    #T_a41cdbdc_047e_11ea_a34f_e4b31883dda2row0_col7 {\n",
       "            background-color:  #799cf8;\n",
       "            color:  #000000;\n",
       "        }    #T_a41cdbdc_047e_11ea_a34f_e4b31883dda2row0_col8 {\n",
       "            background-color:  #3c4ec2;\n",
       "            color:  #f1f1f1;\n",
       "        }    #T_a41cdbdc_047e_11ea_a34f_e4b31883dda2row0_col9 {\n",
       "            background-color:  #3b4cc0;\n",
       "            color:  #f1f1f1;\n",
       "        }    #T_a41cdbdc_047e_11ea_a34f_e4b31883dda2row0_col10 {\n",
       "            background-color:  #3b4cc0;\n",
       "            color:  #f1f1f1;\n",
       "        }    #T_a41cdbdc_047e_11ea_a34f_e4b31883dda2row1_col0 {\n",
       "            background-color:  #b50927;\n",
       "            color:  #f1f1f1;\n",
       "        }    #T_a41cdbdc_047e_11ea_a34f_e4b31883dda2row1_col1 {\n",
       "            background-color:  #b40426;\n",
       "            color:  #f1f1f1;\n",
       "        }    #T_a41cdbdc_047e_11ea_a34f_e4b31883dda2row1_col2 {\n",
       "            background-color:  #6384eb;\n",
       "            color:  #000000;\n",
       "        }    #T_a41cdbdc_047e_11ea_a34f_e4b31883dda2row1_col3 {\n",
       "            background-color:  #6788ee;\n",
       "            color:  #000000;\n",
       "        }    #T_a41cdbdc_047e_11ea_a34f_e4b31883dda2row1_col4 {\n",
       "            background-color:  #92b4fe;\n",
       "            color:  #000000;\n",
       "        }    #T_a41cdbdc_047e_11ea_a34f_e4b31883dda2row1_col5 {\n",
       "            background-color:  #506bda;\n",
       "            color:  #000000;\n",
       "        }    #T_a41cdbdc_047e_11ea_a34f_e4b31883dda2row1_col6 {\n",
       "            background-color:  #5f7fe8;\n",
       "            color:  #000000;\n",
       "        }    #T_a41cdbdc_047e_11ea_a34f_e4b31883dda2row1_col7 {\n",
       "            background-color:  #7a9df8;\n",
       "            color:  #000000;\n",
       "        }    #T_a41cdbdc_047e_11ea_a34f_e4b31883dda2row1_col8 {\n",
       "            background-color:  #3b4cc0;\n",
       "            color:  #f1f1f1;\n",
       "        }    #T_a41cdbdc_047e_11ea_a34f_e4b31883dda2row1_col9 {\n",
       "            background-color:  #3b4cc0;\n",
       "            color:  #f1f1f1;\n",
       "        }    #T_a41cdbdc_047e_11ea_a34f_e4b31883dda2row1_col10 {\n",
       "            background-color:  #3b4cc0;\n",
       "            color:  #f1f1f1;\n",
       "        }    #T_a41cdbdc_047e_11ea_a34f_e4b31883dda2row2_col0 {\n",
       "            background-color:  #7396f5;\n",
       "            color:  #000000;\n",
       "        }    #T_a41cdbdc_047e_11ea_a34f_e4b31883dda2row2_col1 {\n",
       "            background-color:  #7396f5;\n",
       "            color:  #000000;\n",
       "        }    #T_a41cdbdc_047e_11ea_a34f_e4b31883dda2row2_col2 {\n",
       "            background-color:  #b40426;\n",
       "            color:  #f1f1f1;\n",
       "        }    #T_a41cdbdc_047e_11ea_a34f_e4b31883dda2row2_col3 {\n",
       "            background-color:  #ba162b;\n",
       "            color:  #f1f1f1;\n",
       "        }    #T_a41cdbdc_047e_11ea_a34f_e4b31883dda2row2_col4 {\n",
       "            background-color:  #ca3b37;\n",
       "            color:  #f1f1f1;\n",
       "        }    #T_a41cdbdc_047e_11ea_a34f_e4b31883dda2row2_col5 {\n",
       "            background-color:  #cd423b;\n",
       "            color:  #f1f1f1;\n",
       "        }    #T_a41cdbdc_047e_11ea_a34f_e4b31883dda2row2_col6 {\n",
       "            background-color:  #afcafc;\n",
       "            color:  #000000;\n",
       "        }    #T_a41cdbdc_047e_11ea_a34f_e4b31883dda2row2_col7 {\n",
       "            background-color:  #7093f3;\n",
       "            color:  #000000;\n",
       "        }    #T_a41cdbdc_047e_11ea_a34f_e4b31883dda2row2_col8 {\n",
       "            background-color:  #4a63d3;\n",
       "            color:  #f1f1f1;\n",
       "        }    #T_a41cdbdc_047e_11ea_a34f_e4b31883dda2row2_col9 {\n",
       "            background-color:  #6e90f2;\n",
       "            color:  #000000;\n",
       "        }    #T_a41cdbdc_047e_11ea_a34f_e4b31883dda2row2_col10 {\n",
       "            background-color:  #84a7fc;\n",
       "            color:  #000000;\n",
       "        }    #T_a41cdbdc_047e_11ea_a34f_e4b31883dda2row3_col0 {\n",
       "            background-color:  #7699f6;\n",
       "            color:  #000000;\n",
       "        }    #T_a41cdbdc_047e_11ea_a34f_e4b31883dda2row3_col1 {\n",
       "            background-color:  #779af7;\n",
       "            color:  #000000;\n",
       "        }    #T_a41cdbdc_047e_11ea_a34f_e4b31883dda2row3_col2 {\n",
       "            background-color:  #ba162b;\n",
       "            color:  #f1f1f1;\n",
       "        }    #T_a41cdbdc_047e_11ea_a34f_e4b31883dda2row3_col3 {\n",
       "            background-color:  #b40426;\n",
       "            color:  #f1f1f1;\n",
       "        }    #T_a41cdbdc_047e_11ea_a34f_e4b31883dda2row3_col4 {\n",
       "            background-color:  #c32e31;\n",
       "            color:  #f1f1f1;\n",
       "        }    #T_a41cdbdc_047e_11ea_a34f_e4b31883dda2row3_col5 {\n",
       "            background-color:  #c43032;\n",
       "            color:  #f1f1f1;\n",
       "        }    #T_a41cdbdc_047e_11ea_a34f_e4b31883dda2row3_col6 {\n",
       "            background-color:  #aec9fc;\n",
       "            color:  #000000;\n",
       "        }    #T_a41cdbdc_047e_11ea_a34f_e4b31883dda2row3_col7 {\n",
       "            background-color:  #7093f3;\n",
       "            color:  #000000;\n",
       "        }    #T_a41cdbdc_047e_11ea_a34f_e4b31883dda2row3_col8 {\n",
       "            background-color:  #4a63d3;\n",
       "            color:  #f1f1f1;\n",
       "        }    #T_a41cdbdc_047e_11ea_a34f_e4b31883dda2row3_col9 {\n",
       "            background-color:  #6e90f2;\n",
       "            color:  #000000;\n",
       "        }    #T_a41cdbdc_047e_11ea_a34f_e4b31883dda2row3_col10 {\n",
       "            background-color:  #81a4fb;\n",
       "            color:  #000000;\n",
       "        }    #T_a41cdbdc_047e_11ea_a34f_e4b31883dda2row4_col0 {\n",
       "            background-color:  #97b8ff;\n",
       "            color:  #000000;\n",
       "        }    #T_a41cdbdc_047e_11ea_a34f_e4b31883dda2row4_col1 {\n",
       "            background-color:  #9bbcff;\n",
       "            color:  #000000;\n",
       "        }    #T_a41cdbdc_047e_11ea_a34f_e4b31883dda2row4_col2 {\n",
       "            background-color:  #ca3b37;\n",
       "            color:  #f1f1f1;\n",
       "        }    #T_a41cdbdc_047e_11ea_a34f_e4b31883dda2row4_col3 {\n",
       "            background-color:  #c32e31;\n",
       "            color:  #f1f1f1;\n",
       "        }    #T_a41cdbdc_047e_11ea_a34f_e4b31883dda2row4_col4 {\n",
       "            background-color:  #b40426;\n",
       "            color:  #f1f1f1;\n",
       "        }    #T_a41cdbdc_047e_11ea_a34f_e4b31883dda2row4_col5 {\n",
       "            background-color:  #d55042;\n",
       "            color:  #000000;\n",
       "        }    #T_a41cdbdc_047e_11ea_a34f_e4b31883dda2row4_col6 {\n",
       "            background-color:  #aac7fd;\n",
       "            color:  #000000;\n",
       "        }    #T_a41cdbdc_047e_11ea_a34f_e4b31883dda2row4_col7 {\n",
       "            background-color:  #7396f5;\n",
       "            color:  #000000;\n",
       "        }    #T_a41cdbdc_047e_11ea_a34f_e4b31883dda2row4_col8 {\n",
       "            background-color:  #465ecf;\n",
       "            color:  #f1f1f1;\n",
       "        }    #T_a41cdbdc_047e_11ea_a34f_e4b31883dda2row4_col9 {\n",
       "            background-color:  #688aef;\n",
       "            color:  #000000;\n",
       "        }    #T_a41cdbdc_047e_11ea_a34f_e4b31883dda2row4_col10 {\n",
       "            background-color:  #7ea1fa;\n",
       "            color:  #000000;\n",
       "        }    #T_a41cdbdc_047e_11ea_a34f_e4b31883dda2row5_col0 {\n",
       "            background-color:  #6180e9;\n",
       "            color:  #000000;\n",
       "        }    #T_a41cdbdc_047e_11ea_a34f_e4b31883dda2row5_col1 {\n",
       "            background-color:  #6180e9;\n",
       "            color:  #000000;\n",
       "        }    #T_a41cdbdc_047e_11ea_a34f_e4b31883dda2row5_col2 {\n",
       "            background-color:  #cd423b;\n",
       "            color:  #f1f1f1;\n",
       "        }    #T_a41cdbdc_047e_11ea_a34f_e4b31883dda2row5_col3 {\n",
       "            background-color:  #c43032;\n",
       "            color:  #f1f1f1;\n",
       "        }    #T_a41cdbdc_047e_11ea_a34f_e4b31883dda2row5_col4 {\n",
       "            background-color:  #d55042;\n",
       "            color:  #000000;\n",
       "        }    #T_a41cdbdc_047e_11ea_a34f_e4b31883dda2row5_col5 {\n",
       "            background-color:  #b40426;\n",
       "            color:  #f1f1f1;\n",
       "        }    #T_a41cdbdc_047e_11ea_a34f_e4b31883dda2row5_col6 {\n",
       "            background-color:  #afcafc;\n",
       "            color:  #000000;\n",
       "        }    #T_a41cdbdc_047e_11ea_a34f_e4b31883dda2row5_col7 {\n",
       "            background-color:  #6c8ff1;\n",
       "            color:  #000000;\n",
       "        }    #T_a41cdbdc_047e_11ea_a34f_e4b31883dda2row5_col8 {\n",
       "            background-color:  #4a63d3;\n",
       "            color:  #f1f1f1;\n",
       "        }    #T_a41cdbdc_047e_11ea_a34f_e4b31883dda2row5_col9 {\n",
       "            background-color:  #6c8ff1;\n",
       "            color:  #000000;\n",
       "        }    #T_a41cdbdc_047e_11ea_a34f_e4b31883dda2row5_col10 {\n",
       "            background-color:  #7a9df8;\n",
       "            color:  #000000;\n",
       "        }    #T_a41cdbdc_047e_11ea_a34f_e4b31883dda2row6_col0 {\n",
       "            background-color:  #4961d2;\n",
       "            color:  #f1f1f1;\n",
       "        }    #T_a41cdbdc_047e_11ea_a34f_e4b31883dda2row6_col1 {\n",
       "            background-color:  #4a63d3;\n",
       "            color:  #f1f1f1;\n",
       "        }    #T_a41cdbdc_047e_11ea_a34f_e4b31883dda2row6_col2 {\n",
       "            background-color:  #92b4fe;\n",
       "            color:  #000000;\n",
       "        }    #T_a41cdbdc_047e_11ea_a34f_e4b31883dda2row6_col3 {\n",
       "            background-color:  #90b2fe;\n",
       "            color:  #000000;\n",
       "        }    #T_a41cdbdc_047e_11ea_a34f_e4b31883dda2row6_col4 {\n",
       "            background-color:  #90b2fe;\n",
       "            color:  #000000;\n",
       "        }    #T_a41cdbdc_047e_11ea_a34f_e4b31883dda2row6_col5 {\n",
       "            background-color:  #92b4fe;\n",
       "            color:  #000000;\n",
       "        }    #T_a41cdbdc_047e_11ea_a34f_e4b31883dda2row6_col6 {\n",
       "            background-color:  #b40426;\n",
       "            color:  #f1f1f1;\n",
       "        }    #T_a41cdbdc_047e_11ea_a34f_e4b31883dda2row6_col7 {\n",
       "            background-color:  #3b4cc0;\n",
       "            color:  #f1f1f1;\n",
       "        }    #T_a41cdbdc_047e_11ea_a34f_e4b31883dda2row6_col8 {\n",
       "            background-color:  #516ddb;\n",
       "            color:  #000000;\n",
       "        }    #T_a41cdbdc_047e_11ea_a34f_e4b31883dda2row6_col9 {\n",
       "            background-color:  #6788ee;\n",
       "            color:  #000000;\n",
       "        }    #T_a41cdbdc_047e_11ea_a34f_e4b31883dda2row6_col10 {\n",
       "            background-color:  #7b9ff9;\n",
       "            color:  #000000;\n",
       "        }    #T_a41cdbdc_047e_11ea_a34f_e4b31883dda2row7_col0 {\n",
       "            background-color:  #6384eb;\n",
       "            color:  #000000;\n",
       "        }    #T_a41cdbdc_047e_11ea_a34f_e4b31883dda2row7_col1 {\n",
       "            background-color:  #6687ed;\n",
       "            color:  #000000;\n",
       "        }    #T_a41cdbdc_047e_11ea_a34f_e4b31883dda2row7_col2 {\n",
       "            background-color:  #4b64d5;\n",
       "            color:  #f1f1f1;\n",
       "        }    #T_a41cdbdc_047e_11ea_a34f_e4b31883dda2row7_col3 {\n",
       "            background-color:  #4b64d5;\n",
       "            color:  #f1f1f1;\n",
       "        }    #T_a41cdbdc_047e_11ea_a34f_e4b31883dda2row7_col4 {\n",
       "            background-color:  #536edd;\n",
       "            color:  #000000;\n",
       "        }    #T_a41cdbdc_047e_11ea_a34f_e4b31883dda2row7_col5 {\n",
       "            background-color:  #485fd1;\n",
       "            color:  #f1f1f1;\n",
       "        }    #T_a41cdbdc_047e_11ea_a34f_e4b31883dda2row7_col6 {\n",
       "            background-color:  #3b4cc0;\n",
       "            color:  #f1f1f1;\n",
       "        }    #T_a41cdbdc_047e_11ea_a34f_e4b31883dda2row7_col7 {\n",
       "            background-color:  #b40426;\n",
       "            color:  #f1f1f1;\n",
       "        }    #T_a41cdbdc_047e_11ea_a34f_e4b31883dda2row7_col8 {\n",
       "            background-color:  #485fd1;\n",
       "            color:  #f1f1f1;\n",
       "        }    #T_a41cdbdc_047e_11ea_a34f_e4b31883dda2row7_col9 {\n",
       "            background-color:  #96b7ff;\n",
       "            color:  #000000;\n",
       "        }    #T_a41cdbdc_047e_11ea_a34f_e4b31883dda2row7_col10 {\n",
       "            background-color:  #7a9df8;\n",
       "            color:  #000000;\n",
       "        }    #T_a41cdbdc_047e_11ea_a34f_e4b31883dda2row8_col0 {\n",
       "            background-color:  #3b4cc0;\n",
       "            color:  #f1f1f1;\n",
       "        }    #T_a41cdbdc_047e_11ea_a34f_e4b31883dda2row8_col1 {\n",
       "            background-color:  #3b4cc0;\n",
       "            color:  #f1f1f1;\n",
       "        }    #T_a41cdbdc_047e_11ea_a34f_e4b31883dda2row8_col2 {\n",
       "            background-color:  #3b4cc0;\n",
       "            color:  #f1f1f1;\n",
       "        }    #T_a41cdbdc_047e_11ea_a34f_e4b31883dda2row8_col3 {\n",
       "            background-color:  #3b4cc0;\n",
       "            color:  #f1f1f1;\n",
       "        }    #T_a41cdbdc_047e_11ea_a34f_e4b31883dda2row8_col4 {\n",
       "            background-color:  #3b4cc0;\n",
       "            color:  #f1f1f1;\n",
       "        }    #T_a41cdbdc_047e_11ea_a34f_e4b31883dda2row8_col5 {\n",
       "            background-color:  #3b4cc0;\n",
       "            color:  #f1f1f1;\n",
       "        }    #T_a41cdbdc_047e_11ea_a34f_e4b31883dda2row8_col6 {\n",
       "            background-color:  #6687ed;\n",
       "            color:  #000000;\n",
       "        }    #T_a41cdbdc_047e_11ea_a34f_e4b31883dda2row8_col7 {\n",
       "            background-color:  #5d7ce6;\n",
       "            color:  #000000;\n",
       "        }    #T_a41cdbdc_047e_11ea_a34f_e4b31883dda2row8_col8 {\n",
       "            background-color:  #b40426;\n",
       "            color:  #f1f1f1;\n",
       "        }    #T_a41cdbdc_047e_11ea_a34f_e4b31883dda2row8_col9 {\n",
       "            background-color:  #516ddb;\n",
       "            color:  #000000;\n",
       "        }    #T_a41cdbdc_047e_11ea_a34f_e4b31883dda2row8_col10 {\n",
       "            background-color:  #506bda;\n",
       "            color:  #000000;\n",
       "        }    #T_a41cdbdc_047e_11ea_a34f_e4b31883dda2row9_col0 {\n",
       "            background-color:  #4c66d6;\n",
       "            color:  #000000;\n",
       "        }    #T_a41cdbdc_047e_11ea_a34f_e4b31883dda2row9_col1 {\n",
       "            background-color:  #4c66d6;\n",
       "            color:  #000000;\n",
       "        }    #T_a41cdbdc_047e_11ea_a34f_e4b31883dda2row9_col2 {\n",
       "            background-color:  #7093f3;\n",
       "            color:  #000000;\n",
       "        }    #T_a41cdbdc_047e_11ea_a34f_e4b31883dda2row9_col3 {\n",
       "            background-color:  #6f92f3;\n",
       "            color:  #000000;\n",
       "        }    #T_a41cdbdc_047e_11ea_a34f_e4b31883dda2row9_col4 {\n",
       "            background-color:  #6f92f3;\n",
       "            color:  #000000;\n",
       "        }    #T_a41cdbdc_047e_11ea_a34f_e4b31883dda2row9_col5 {\n",
       "            background-color:  #6f92f3;\n",
       "            color:  #000000;\n",
       "        }    #T_a41cdbdc_047e_11ea_a34f_e4b31883dda2row9_col6 {\n",
       "            background-color:  #8db0fe;\n",
       "            color:  #000000;\n",
       "        }    #T_a41cdbdc_047e_11ea_a34f_e4b31883dda2row9_col7 {\n",
       "            background-color:  #b5cdfa;\n",
       "            color:  #000000;\n",
       "        }    #T_a41cdbdc_047e_11ea_a34f_e4b31883dda2row9_col8 {\n",
       "            background-color:  #6384eb;\n",
       "            color:  #000000;\n",
       "        }    #T_a41cdbdc_047e_11ea_a34f_e4b31883dda2row9_col9 {\n",
       "            background-color:  #b40426;\n",
       "            color:  #f1f1f1;\n",
       "        }    #T_a41cdbdc_047e_11ea_a34f_e4b31883dda2row9_col10 {\n",
       "            background-color:  #f7b599;\n",
       "            color:  #000000;\n",
       "        }    #T_a41cdbdc_047e_11ea_a34f_e4b31883dda2row10_col0 {\n",
       "            background-color:  #536edd;\n",
       "            color:  #000000;\n",
       "        }    #T_a41cdbdc_047e_11ea_a34f_e4b31883dda2row10_col1 {\n",
       "            background-color:  #5572df;\n",
       "            color:  #000000;\n",
       "        }    #T_a41cdbdc_047e_11ea_a34f_e4b31883dda2row10_col2 {\n",
       "            background-color:  #8caffe;\n",
       "            color:  #000000;\n",
       "        }    #T_a41cdbdc_047e_11ea_a34f_e4b31883dda2row10_col3 {\n",
       "            background-color:  #8badfd;\n",
       "            color:  #000000;\n",
       "        }    #T_a41cdbdc_047e_11ea_a34f_e4b31883dda2row10_col4 {\n",
       "            background-color:  #8caffe;\n",
       "            color:  #000000;\n",
       "        }    #T_a41cdbdc_047e_11ea_a34f_e4b31883dda2row10_col5 {\n",
       "            background-color:  #84a7fc;\n",
       "            color:  #000000;\n",
       "        }    #T_a41cdbdc_047e_11ea_a34f_e4b31883dda2row10_col6 {\n",
       "            background-color:  #a5c3fe;\n",
       "            color:  #000000;\n",
       "        }    #T_a41cdbdc_047e_11ea_a34f_e4b31883dda2row10_col7 {\n",
       "            background-color:  #a3c2fe;\n",
       "            color:  #000000;\n",
       "        }    #T_a41cdbdc_047e_11ea_a34f_e4b31883dda2row10_col8 {\n",
       "            background-color:  #6a8bef;\n",
       "            color:  #000000;\n",
       "        }    #T_a41cdbdc_047e_11ea_a34f_e4b31883dda2row10_col9 {\n",
       "            background-color:  #f7b396;\n",
       "            color:  #000000;\n",
       "        }    #T_a41cdbdc_047e_11ea_a34f_e4b31883dda2row10_col10 {\n",
       "            background-color:  #b40426;\n",
       "            color:  #f1f1f1;\n",
       "        }</style><table id=\"T_a41cdbdc_047e_11ea_a34f_e4b31883dda2\" ><thead>    <tr>        <th class=\"blank level0\" ></th>        <th class=\"col_heading level0 col0\" >id</th>        <th class=\"col_heading level0 col1\" >member_id</th>        <th class=\"col_heading level0 col2\" >loan_amnt</th>        <th class=\"col_heading level0 col3\" >funded_amnt</th>        <th class=\"col_heading level0 col4\" >funded_amnt_inv</th>        <th class=\"col_heading level0 col5\" >installment</th>        <th class=\"col_heading level0 col6\" >annual_inc</th>        <th class=\"col_heading level0 col7\" >dti</th>        <th class=\"col_heading level0 col8\" >inq_last_6mths</th>        <th class=\"col_heading level0 col9\" >open_acc</th>        <th class=\"col_heading level0 col10\" >total_acc</th>    </tr></thead><tbody>\n",
       "                <tr>\n",
       "                        <th id=\"T_a41cdbdc_047e_11ea_a34f_e4b31883dda2level0_row0\" class=\"row_heading level0 row0\" >id</th>\n",
       "                        <td id=\"T_a41cdbdc_047e_11ea_a34f_e4b31883dda2row0_col0\" class=\"data row0 col0\" >1</td>\n",
       "                        <td id=\"T_a41cdbdc_047e_11ea_a34f_e4b31883dda2row0_col1\" class=\"data row0 col1\" >0.99</td>\n",
       "                        <td id=\"T_a41cdbdc_047e_11ea_a34f_e4b31883dda2row0_col2\" class=\"data row0 col2\" >0.14</td>\n",
       "                        <td id=\"T_a41cdbdc_047e_11ea_a34f_e4b31883dda2row0_col3\" class=\"data row0 col3\" >0.15</td>\n",
       "                        <td id=\"T_a41cdbdc_047e_11ea_a34f_e4b31883dda2row0_col4\" class=\"data row0 col4\" >0.25</td>\n",
       "                        <td id=\"T_a41cdbdc_047e_11ea_a34f_e4b31883dda2row0_col5\" class=\"data row0 col5\" >0.087</td>\n",
       "                        <td id=\"T_a41cdbdc_047e_11ea_a34f_e4b31883dda2row0_col6\" class=\"data row0 col6\" >0.0087</td>\n",
       "                        <td id=\"T_a41cdbdc_047e_11ea_a34f_e4b31883dda2row0_col7\" class=\"data row0 col7\" >0.096</td>\n",
       "                        <td id=\"T_a41cdbdc_047e_11ea_a34f_e4b31883dda2row0_col8\" class=\"data row0 col8\" >-0.042</td>\n",
       "                        <td id=\"T_a41cdbdc_047e_11ea_a34f_e4b31883dda2row0_col9\" class=\"data row0 col9\" >0.02</td>\n",
       "                        <td id=\"T_a41cdbdc_047e_11ea_a34f_e4b31883dda2row0_col10\" class=\"data row0 col10\" >0.042</td>\n",
       "            </tr>\n",
       "            <tr>\n",
       "                        <th id=\"T_a41cdbdc_047e_11ea_a34f_e4b31883dda2level0_row1\" class=\"row_heading level0 row1\" >member_id</th>\n",
       "                        <td id=\"T_a41cdbdc_047e_11ea_a34f_e4b31883dda2row1_col0\" class=\"data row1 col0\" >0.99</td>\n",
       "                        <td id=\"T_a41cdbdc_047e_11ea_a34f_e4b31883dda2row1_col1\" class=\"data row1 col1\" >1</td>\n",
       "                        <td id=\"T_a41cdbdc_047e_11ea_a34f_e4b31883dda2row1_col2\" class=\"data row1 col2\" >0.14</td>\n",
       "                        <td id=\"T_a41cdbdc_047e_11ea_a34f_e4b31883dda2row1_col3\" class=\"data row1 col3\" >0.15</td>\n",
       "                        <td id=\"T_a41cdbdc_047e_11ea_a34f_e4b31883dda2row1_col4\" class=\"data row1 col4\" >0.26</td>\n",
       "                        <td id=\"T_a41cdbdc_047e_11ea_a34f_e4b31883dda2row1_col5\" class=\"data row1 col5\" >0.081</td>\n",
       "                        <td id=\"T_a41cdbdc_047e_11ea_a34f_e4b31883dda2row1_col6\" class=\"data row1 col6\" >0.0094</td>\n",
       "                        <td id=\"T_a41cdbdc_047e_11ea_a34f_e4b31883dda2row1_col7\" class=\"data row1 col7\" >0.097</td>\n",
       "                        <td id=\"T_a41cdbdc_047e_11ea_a34f_e4b31883dda2row1_col8\" class=\"data row1 col8\" >-0.047</td>\n",
       "                        <td id=\"T_a41cdbdc_047e_11ea_a34f_e4b31883dda2row1_col9\" class=\"data row1 col9\" >0.018</td>\n",
       "                        <td id=\"T_a41cdbdc_047e_11ea_a34f_e4b31883dda2row1_col10\" class=\"data row1 col10\" >0.044</td>\n",
       "            </tr>\n",
       "            <tr>\n",
       "                        <th id=\"T_a41cdbdc_047e_11ea_a34f_e4b31883dda2level0_row2\" class=\"row_heading level0 row2\" >loan_amnt</th>\n",
       "                        <td id=\"T_a41cdbdc_047e_11ea_a34f_e4b31883dda2row2_col0\" class=\"data row2 col0\" >0.14</td>\n",
       "                        <td id=\"T_a41cdbdc_047e_11ea_a34f_e4b31883dda2row2_col1\" class=\"data row2 col1\" >0.14</td>\n",
       "                        <td id=\"T_a41cdbdc_047e_11ea_a34f_e4b31883dda2row2_col2\" class=\"data row2 col2\" >1</td>\n",
       "                        <td id=\"T_a41cdbdc_047e_11ea_a34f_e4b31883dda2row2_col3\" class=\"data row2 col3\" >0.98</td>\n",
       "                        <td id=\"T_a41cdbdc_047e_11ea_a34f_e4b31883dda2row2_col4\" class=\"data row2 col4\" >0.94</td>\n",
       "                        <td id=\"T_a41cdbdc_047e_11ea_a34f_e4b31883dda2row2_col5\" class=\"data row2 col5\" >0.93</td>\n",
       "                        <td id=\"T_a41cdbdc_047e_11ea_a34f_e4b31883dda2row2_col6\" class=\"data row2 col6\" >0.27</td>\n",
       "                        <td id=\"T_a41cdbdc_047e_11ea_a34f_e4b31883dda2row2_col7\" class=\"data row2 col7\" >0.066</td>\n",
       "                        <td id=\"T_a41cdbdc_047e_11ea_a34f_e4b31883dda2row2_col8\" class=\"data row2 col8\" >0.0092</td>\n",
       "                        <td id=\"T_a41cdbdc_047e_11ea_a34f_e4b31883dda2row2_col9\" class=\"data row2 col9\" >0.18</td>\n",
       "                        <td id=\"T_a41cdbdc_047e_11ea_a34f_e4b31883dda2row2_col10\" class=\"data row2 col10\" >0.26</td>\n",
       "            </tr>\n",
       "            <tr>\n",
       "                        <th id=\"T_a41cdbdc_047e_11ea_a34f_e4b31883dda2level0_row3\" class=\"row_heading level0 row3\" >funded_amnt</th>\n",
       "                        <td id=\"T_a41cdbdc_047e_11ea_a34f_e4b31883dda2row3_col0\" class=\"data row3 col0\" >0.15</td>\n",
       "                        <td id=\"T_a41cdbdc_047e_11ea_a34f_e4b31883dda2row3_col1\" class=\"data row3 col1\" >0.15</td>\n",
       "                        <td id=\"T_a41cdbdc_047e_11ea_a34f_e4b31883dda2row3_col2\" class=\"data row3 col2\" >0.98</td>\n",
       "                        <td id=\"T_a41cdbdc_047e_11ea_a34f_e4b31883dda2row3_col3\" class=\"data row3 col3\" >1</td>\n",
       "                        <td id=\"T_a41cdbdc_047e_11ea_a34f_e4b31883dda2row3_col4\" class=\"data row3 col4\" >0.96</td>\n",
       "                        <td id=\"T_a41cdbdc_047e_11ea_a34f_e4b31883dda2row3_col5\" class=\"data row3 col5\" >0.96</td>\n",
       "                        <td id=\"T_a41cdbdc_047e_11ea_a34f_e4b31883dda2row3_col6\" class=\"data row3 col6\" >0.27</td>\n",
       "                        <td id=\"T_a41cdbdc_047e_11ea_a34f_e4b31883dda2row3_col7\" class=\"data row3 col7\" >0.066</td>\n",
       "                        <td id=\"T_a41cdbdc_047e_11ea_a34f_e4b31883dda2row3_col8\" class=\"data row3 col8\" >0.0093</td>\n",
       "                        <td id=\"T_a41cdbdc_047e_11ea_a34f_e4b31883dda2row3_col9\" class=\"data row3 col9\" >0.18</td>\n",
       "                        <td id=\"T_a41cdbdc_047e_11ea_a34f_e4b31883dda2row3_col10\" class=\"data row3 col10\" >0.25</td>\n",
       "            </tr>\n",
       "            <tr>\n",
       "                        <th id=\"T_a41cdbdc_047e_11ea_a34f_e4b31883dda2level0_row4\" class=\"row_heading level0 row4\" >funded_amnt_inv</th>\n",
       "                        <td id=\"T_a41cdbdc_047e_11ea_a34f_e4b31883dda2row4_col0\" class=\"data row4 col0\" >0.25</td>\n",
       "                        <td id=\"T_a41cdbdc_047e_11ea_a34f_e4b31883dda2row4_col1\" class=\"data row4 col1\" >0.26</td>\n",
       "                        <td id=\"T_a41cdbdc_047e_11ea_a34f_e4b31883dda2row4_col2\" class=\"data row4 col2\" >0.94</td>\n",
       "                        <td id=\"T_a41cdbdc_047e_11ea_a34f_e4b31883dda2row4_col3\" class=\"data row4 col3\" >0.96</td>\n",
       "                        <td id=\"T_a41cdbdc_047e_11ea_a34f_e4b31883dda2row4_col4\" class=\"data row4 col4\" >1</td>\n",
       "                        <td id=\"T_a41cdbdc_047e_11ea_a34f_e4b31883dda2row4_col5\" class=\"data row4 col5\" >0.91</td>\n",
       "                        <td id=\"T_a41cdbdc_047e_11ea_a34f_e4b31883dda2row4_col6\" class=\"data row4 col6\" >0.25</td>\n",
       "                        <td id=\"T_a41cdbdc_047e_11ea_a34f_e4b31883dda2row4_col7\" class=\"data row4 col7\" >0.075</td>\n",
       "                        <td id=\"T_a41cdbdc_047e_11ea_a34f_e4b31883dda2row4_col8\" class=\"data row4 col8\" >-0.0057</td>\n",
       "                        <td id=\"T_a41cdbdc_047e_11ea_a34f_e4b31883dda2row4_col9\" class=\"data row4 col9\" >0.16</td>\n",
       "                        <td id=\"T_a41cdbdc_047e_11ea_a34f_e4b31883dda2row4_col10\" class=\"data row4 col10\" >0.24</td>\n",
       "            </tr>\n",
       "            <tr>\n",
       "                        <th id=\"T_a41cdbdc_047e_11ea_a34f_e4b31883dda2level0_row5\" class=\"row_heading level0 row5\" >installment</th>\n",
       "                        <td id=\"T_a41cdbdc_047e_11ea_a34f_e4b31883dda2row5_col0\" class=\"data row5 col0\" >0.087</td>\n",
       "                        <td id=\"T_a41cdbdc_047e_11ea_a34f_e4b31883dda2row5_col1\" class=\"data row5 col1\" >0.081</td>\n",
       "                        <td id=\"T_a41cdbdc_047e_11ea_a34f_e4b31883dda2row5_col2\" class=\"data row5 col2\" >0.93</td>\n",
       "                        <td id=\"T_a41cdbdc_047e_11ea_a34f_e4b31883dda2row5_col3\" class=\"data row5 col3\" >0.96</td>\n",
       "                        <td id=\"T_a41cdbdc_047e_11ea_a34f_e4b31883dda2row5_col4\" class=\"data row5 col4\" >0.91</td>\n",
       "                        <td id=\"T_a41cdbdc_047e_11ea_a34f_e4b31883dda2row5_col5\" class=\"data row5 col5\" >1</td>\n",
       "                        <td id=\"T_a41cdbdc_047e_11ea_a34f_e4b31883dda2row5_col6\" class=\"data row5 col6\" >0.27</td>\n",
       "                        <td id=\"T_a41cdbdc_047e_11ea_a34f_e4b31883dda2row5_col7\" class=\"data row5 col7\" >0.054</td>\n",
       "                        <td id=\"T_a41cdbdc_047e_11ea_a34f_e4b31883dda2row5_col8\" class=\"data row5 col8\" >0.0097</td>\n",
       "                        <td id=\"T_a41cdbdc_047e_11ea_a34f_e4b31883dda2row5_col9\" class=\"data row5 col9\" >0.17</td>\n",
       "                        <td id=\"T_a41cdbdc_047e_11ea_a34f_e4b31883dda2row5_col10\" class=\"data row5 col10\" >0.23</td>\n",
       "            </tr>\n",
       "            <tr>\n",
       "                        <th id=\"T_a41cdbdc_047e_11ea_a34f_e4b31883dda2level0_row6\" class=\"row_heading level0 row6\" >annual_inc</th>\n",
       "                        <td id=\"T_a41cdbdc_047e_11ea_a34f_e4b31883dda2row6_col0\" class=\"data row6 col0\" >0.0087</td>\n",
       "                        <td id=\"T_a41cdbdc_047e_11ea_a34f_e4b31883dda2row6_col1\" class=\"data row6 col1\" >0.0094</td>\n",
       "                        <td id=\"T_a41cdbdc_047e_11ea_a34f_e4b31883dda2row6_col2\" class=\"data row6 col2\" >0.27</td>\n",
       "                        <td id=\"T_a41cdbdc_047e_11ea_a34f_e4b31883dda2row6_col3\" class=\"data row6 col3\" >0.27</td>\n",
       "                        <td id=\"T_a41cdbdc_047e_11ea_a34f_e4b31883dda2row6_col4\" class=\"data row6 col4\" >0.25</td>\n",
       "                        <td id=\"T_a41cdbdc_047e_11ea_a34f_e4b31883dda2row6_col5\" class=\"data row6 col5\" >0.27</td>\n",
       "                        <td id=\"T_a41cdbdc_047e_11ea_a34f_e4b31883dda2row6_col6\" class=\"data row6 col6\" >1</td>\n",
       "                        <td id=\"T_a41cdbdc_047e_11ea_a34f_e4b31883dda2row6_col7\" class=\"data row6 col7\" >-0.12</td>\n",
       "                        <td id=\"T_a41cdbdc_047e_11ea_a34f_e4b31883dda2row6_col8\" class=\"data row6 col8\" >0.034</td>\n",
       "                        <td id=\"T_a41cdbdc_047e_11ea_a34f_e4b31883dda2row6_col9\" class=\"data row6 col9\" >0.16</td>\n",
       "                        <td id=\"T_a41cdbdc_047e_11ea_a34f_e4b31883dda2row6_col10\" class=\"data row6 col10\" >0.24</td>\n",
       "            </tr>\n",
       "            <tr>\n",
       "                        <th id=\"T_a41cdbdc_047e_11ea_a34f_e4b31883dda2level0_row7\" class=\"row_heading level0 row7\" >dti</th>\n",
       "                        <td id=\"T_a41cdbdc_047e_11ea_a34f_e4b31883dda2row7_col0\" class=\"data row7 col0\" >0.096</td>\n",
       "                        <td id=\"T_a41cdbdc_047e_11ea_a34f_e4b31883dda2row7_col1\" class=\"data row7 col1\" >0.097</td>\n",
       "                        <td id=\"T_a41cdbdc_047e_11ea_a34f_e4b31883dda2row7_col2\" class=\"data row7 col2\" >0.066</td>\n",
       "                        <td id=\"T_a41cdbdc_047e_11ea_a34f_e4b31883dda2row7_col3\" class=\"data row7 col3\" >0.066</td>\n",
       "                        <td id=\"T_a41cdbdc_047e_11ea_a34f_e4b31883dda2row7_col4\" class=\"data row7 col4\" >0.075</td>\n",
       "                        <td id=\"T_a41cdbdc_047e_11ea_a34f_e4b31883dda2row7_col5\" class=\"data row7 col5\" >0.054</td>\n",
       "                        <td id=\"T_a41cdbdc_047e_11ea_a34f_e4b31883dda2row7_col6\" class=\"data row7 col6\" >-0.12</td>\n",
       "                        <td id=\"T_a41cdbdc_047e_11ea_a34f_e4b31883dda2row7_col7\" class=\"data row7 col7\" >1</td>\n",
       "                        <td id=\"T_a41cdbdc_047e_11ea_a34f_e4b31883dda2row7_col8\" class=\"data row7 col8\" >0.0014</td>\n",
       "                        <td id=\"T_a41cdbdc_047e_11ea_a34f_e4b31883dda2row7_col9\" class=\"data row7 col9\" >0.29</td>\n",
       "                        <td id=\"T_a41cdbdc_047e_11ea_a34f_e4b31883dda2row7_col10\" class=\"data row7 col10\" >0.23</td>\n",
       "            </tr>\n",
       "            <tr>\n",
       "                        <th id=\"T_a41cdbdc_047e_11ea_a34f_e4b31883dda2level0_row8\" class=\"row_heading level0 row8\" >inq_last_6mths</th>\n",
       "                        <td id=\"T_a41cdbdc_047e_11ea_a34f_e4b31883dda2row8_col0\" class=\"data row8 col0\" >-0.042</td>\n",
       "                        <td id=\"T_a41cdbdc_047e_11ea_a34f_e4b31883dda2row8_col1\" class=\"data row8 col1\" >-0.047</td>\n",
       "                        <td id=\"T_a41cdbdc_047e_11ea_a34f_e4b31883dda2row8_col2\" class=\"data row8 col2\" >0.0092</td>\n",
       "                        <td id=\"T_a41cdbdc_047e_11ea_a34f_e4b31883dda2row8_col3\" class=\"data row8 col3\" >0.0093</td>\n",
       "                        <td id=\"T_a41cdbdc_047e_11ea_a34f_e4b31883dda2row8_col4\" class=\"data row8 col4\" >-0.0057</td>\n",
       "                        <td id=\"T_a41cdbdc_047e_11ea_a34f_e4b31883dda2row8_col5\" class=\"data row8 col5\" >0.0097</td>\n",
       "                        <td id=\"T_a41cdbdc_047e_11ea_a34f_e4b31883dda2row8_col6\" class=\"data row8 col6\" >0.034</td>\n",
       "                        <td id=\"T_a41cdbdc_047e_11ea_a34f_e4b31883dda2row8_col7\" class=\"data row8 col7\" >0.0014</td>\n",
       "                        <td id=\"T_a41cdbdc_047e_11ea_a34f_e4b31883dda2row8_col8\" class=\"data row8 col8\" >1</td>\n",
       "                        <td id=\"T_a41cdbdc_047e_11ea_a34f_e4b31883dda2row8_col9\" class=\"data row8 col9\" >0.092</td>\n",
       "                        <td id=\"T_a41cdbdc_047e_11ea_a34f_e4b31883dda2row8_col10\" class=\"data row8 col10\" >0.11</td>\n",
       "            </tr>\n",
       "            <tr>\n",
       "                        <th id=\"T_a41cdbdc_047e_11ea_a34f_e4b31883dda2level0_row9\" class=\"row_heading level0 row9\" >open_acc</th>\n",
       "                        <td id=\"T_a41cdbdc_047e_11ea_a34f_e4b31883dda2row9_col0\" class=\"data row9 col0\" >0.02</td>\n",
       "                        <td id=\"T_a41cdbdc_047e_11ea_a34f_e4b31883dda2row9_col1\" class=\"data row9 col1\" >0.018</td>\n",
       "                        <td id=\"T_a41cdbdc_047e_11ea_a34f_e4b31883dda2row9_col2\" class=\"data row9 col2\" >0.18</td>\n",
       "                        <td id=\"T_a41cdbdc_047e_11ea_a34f_e4b31883dda2row9_col3\" class=\"data row9 col3\" >0.18</td>\n",
       "                        <td id=\"T_a41cdbdc_047e_11ea_a34f_e4b31883dda2row9_col4\" class=\"data row9 col4\" >0.16</td>\n",
       "                        <td id=\"T_a41cdbdc_047e_11ea_a34f_e4b31883dda2row9_col5\" class=\"data row9 col5\" >0.17</td>\n",
       "                        <td id=\"T_a41cdbdc_047e_11ea_a34f_e4b31883dda2row9_col6\" class=\"data row9 col6\" >0.16</td>\n",
       "                        <td id=\"T_a41cdbdc_047e_11ea_a34f_e4b31883dda2row9_col7\" class=\"data row9 col7\" >0.29</td>\n",
       "                        <td id=\"T_a41cdbdc_047e_11ea_a34f_e4b31883dda2row9_col8\" class=\"data row9 col8\" >0.092</td>\n",
       "                        <td id=\"T_a41cdbdc_047e_11ea_a34f_e4b31883dda2row9_col9\" class=\"data row9 col9\" >1</td>\n",
       "                        <td id=\"T_a41cdbdc_047e_11ea_a34f_e4b31883dda2row9_col10\" class=\"data row9 col10\" >0.69</td>\n",
       "            </tr>\n",
       "            <tr>\n",
       "                        <th id=\"T_a41cdbdc_047e_11ea_a34f_e4b31883dda2level0_row10\" class=\"row_heading level0 row10\" >total_acc</th>\n",
       "                        <td id=\"T_a41cdbdc_047e_11ea_a34f_e4b31883dda2row10_col0\" class=\"data row10 col0\" >0.042</td>\n",
       "                        <td id=\"T_a41cdbdc_047e_11ea_a34f_e4b31883dda2row10_col1\" class=\"data row10 col1\" >0.044</td>\n",
       "                        <td id=\"T_a41cdbdc_047e_11ea_a34f_e4b31883dda2row10_col2\" class=\"data row10 col2\" >0.26</td>\n",
       "                        <td id=\"T_a41cdbdc_047e_11ea_a34f_e4b31883dda2row10_col3\" class=\"data row10 col3\" >0.25</td>\n",
       "                        <td id=\"T_a41cdbdc_047e_11ea_a34f_e4b31883dda2row10_col4\" class=\"data row10 col4\" >0.24</td>\n",
       "                        <td id=\"T_a41cdbdc_047e_11ea_a34f_e4b31883dda2row10_col5\" class=\"data row10 col5\" >0.23</td>\n",
       "                        <td id=\"T_a41cdbdc_047e_11ea_a34f_e4b31883dda2row10_col6\" class=\"data row10 col6\" >0.24</td>\n",
       "                        <td id=\"T_a41cdbdc_047e_11ea_a34f_e4b31883dda2row10_col7\" class=\"data row10 col7\" >0.23</td>\n",
       "                        <td id=\"T_a41cdbdc_047e_11ea_a34f_e4b31883dda2row10_col8\" class=\"data row10 col8\" >0.11</td>\n",
       "                        <td id=\"T_a41cdbdc_047e_11ea_a34f_e4b31883dda2row10_col9\" class=\"data row10 col9\" >0.69</td>\n",
       "                        <td id=\"T_a41cdbdc_047e_11ea_a34f_e4b31883dda2row10_col10\" class=\"data row10 col10\" >1</td>\n",
       "            </tr>\n",
       "    </tbody></table>"
      ],
      "text/plain": [
       "<pandas.io.formats.style.Styler at 0x255f449e860>"
      ]
     },
     "execution_count": 9,
     "metadata": {},
     "output_type": "execute_result"
    }
   ],
   "source": [
    "# Check correlation between all the numeric data\n",
    "corr = ln.corr()\n",
    "corr.style.background_gradient(cmap='coolwarm').set_precision(2)"
   ]
  },
  {
   "cell_type": "code",
   "execution_count": 11,
   "metadata": {},
   "outputs": [],
   "source": [
    " # As mentioned in the assumption dropping we are excluding analysis for the loan_status = current \n",
    "\n",
    "ln = ln[ln[\"loan_status\"] != \"Current\"]\n"
   ]
  },
  {
   "cell_type": "markdown",
   "metadata": {},
   "source": [
    " ## with loan_amnt, funded_amnt, funded_amnt_inv"
   ]
  },
  {
   "cell_type": "code",
   "execution_count": 12,
   "metadata": {},
   "outputs": [
    {
     "data": {
      "text/html": [
       "<div>\n",
       "<style scoped>\n",
       "    .dataframe tbody tr th:only-of-type {\n",
       "        vertical-align: middle;\n",
       "    }\n",
       "\n",
       "    .dataframe tbody tr th {\n",
       "        vertical-align: top;\n",
       "    }\n",
       "\n",
       "    .dataframe thead th {\n",
       "        text-align: right;\n",
       "    }\n",
       "</style>\n",
       "<table border=\"1\" class=\"dataframe\">\n",
       "  <thead>\n",
       "    <tr style=\"text-align: right;\">\n",
       "      <th></th>\n",
       "      <th>loan_amnt</th>\n",
       "    </tr>\n",
       "    <tr>\n",
       "      <th>loan_status</th>\n",
       "      <th></th>\n",
       "    </tr>\n",
       "  </thead>\n",
       "  <tbody>\n",
       "    <tr>\n",
       "      <th>Charged Off</th>\n",
       "      <td>12104.385108</td>\n",
       "    </tr>\n",
       "    <tr>\n",
       "      <th>Fully Paid</th>\n",
       "      <td>10866.455994</td>\n",
       "    </tr>\n",
       "  </tbody>\n",
       "</table>\n",
       "</div>"
      ],
      "text/plain": [
       "                loan_amnt\n",
       "loan_status              \n",
       "Charged Off  12104.385108\n",
       "Fully Paid   10866.455994"
      ]
     },
     "execution_count": 12,
     "metadata": {},
     "output_type": "execute_result"
    }
   ],
   "source": [
    "ln_amnt = ln.pivot_table(values = 'loan_amnt', index = 'loan_status', aggfunc = 'mean')\n",
    "ln_amnt"
   ]
  },
  {
   "cell_type": "code",
   "execution_count": 13,
   "metadata": {},
   "outputs": [
    {
     "data": {
      "text/html": [
       "<div>\n",
       "<style scoped>\n",
       "    .dataframe tbody tr th:only-of-type {\n",
       "        vertical-align: middle;\n",
       "    }\n",
       "\n",
       "    .dataframe tbody tr th {\n",
       "        vertical-align: top;\n",
       "    }\n",
       "\n",
       "    .dataframe thead th {\n",
       "        text-align: right;\n",
       "    }\n",
       "</style>\n",
       "<table border=\"1\" class=\"dataframe\">\n",
       "  <thead>\n",
       "    <tr style=\"text-align: right;\">\n",
       "      <th></th>\n",
       "      <th>funded_amnt</th>\n",
       "    </tr>\n",
       "    <tr>\n",
       "      <th>loan_status</th>\n",
       "      <th></th>\n",
       "    </tr>\n",
       "  </thead>\n",
       "  <tbody>\n",
       "    <tr>\n",
       "      <th>Charged Off</th>\n",
       "      <td>11753.398792</td>\n",
       "    </tr>\n",
       "    <tr>\n",
       "      <th>Fully Paid</th>\n",
       "      <td>10618.520486</td>\n",
       "    </tr>\n",
       "  </tbody>\n",
       "</table>\n",
       "</div>"
      ],
      "text/plain": [
       "              funded_amnt\n",
       "loan_status              \n",
       "Charged Off  11753.398792\n",
       "Fully Paid   10618.520486"
      ]
     },
     "execution_count": 13,
     "metadata": {},
     "output_type": "execute_result"
    }
   ],
   "source": [
    "fund_amnt = ln.pivot_table(values = 'funded_amnt', index = 'loan_status', aggfunc = 'mean')\n",
    "fund_amnt"
   ]
  },
  {
   "cell_type": "code",
   "execution_count": 14,
   "metadata": {},
   "outputs": [
    {
     "data": {
      "text/html": [
       "<div>\n",
       "<style scoped>\n",
       "    .dataframe tbody tr th:only-of-type {\n",
       "        vertical-align: middle;\n",
       "    }\n",
       "\n",
       "    .dataframe tbody tr th {\n",
       "        vertical-align: top;\n",
       "    }\n",
       "\n",
       "    .dataframe thead th {\n",
       "        text-align: right;\n",
       "    }\n",
       "</style>\n",
       "<table border=\"1\" class=\"dataframe\">\n",
       "  <thead>\n",
       "    <tr style=\"text-align: right;\">\n",
       "      <th></th>\n",
       "      <th>funded_amnt_inv</th>\n",
       "    </tr>\n",
       "    <tr>\n",
       "      <th>loan_status</th>\n",
       "      <th></th>\n",
       "    </tr>\n",
       "  </thead>\n",
       "  <tbody>\n",
       "    <tr>\n",
       "      <th>Charged Off</th>\n",
       "      <td>10864.521324</td>\n",
       "    </tr>\n",
       "    <tr>\n",
       "      <th>Fully Paid</th>\n",
       "      <td>10112.837414</td>\n",
       "    </tr>\n",
       "  </tbody>\n",
       "</table>\n",
       "</div>"
      ],
      "text/plain": [
       "             funded_amnt_inv\n",
       "loan_status                 \n",
       "Charged Off     10864.521324\n",
       "Fully Paid      10112.837414"
      ]
     },
     "execution_count": 14,
     "metadata": {},
     "output_type": "execute_result"
    }
   ],
   "source": [
    "fund_amnt_inv = ln.pivot_table(values = 'funded_amnt_inv', index = 'loan_status', aggfunc = 'mean')\n",
    "fund_amnt_inv"
   ]
  },
  {
   "cell_type": "code",
   "execution_count": 20,
   "metadata": {},
   "outputs": [
    {
     "data": {
      "image/png": "[encoded data removed]",
      "text/plain": [
       "<Figure size 1152x504 with 3 Axes>"
      ]
     },
     "metadata": {
      "needs_background": "light"
     },
     "output_type": "display_data"
    }
   ],
   "source": [
    "# Box plot of different fund type with with loan status\n",
    "\n",
    "import numpy as np\n",
    "import pandas as pd\n",
    "import matplotlib.pyplot as plt\n",
    "import seaborn as sns\n",
    "\n",
    "# adjust figure size\n",
    "plt.figure(figsize=(16, 7))\n",
    "\n",
    "# subplot 1: loan amount\n",
    "plt.subplot(1, 3, 1)\n",
    "sns.boxplot(x='loan_status', y='loan_amnt', data=ln)\n",
    "plt.title(\"Loan Amount\")\n",
    "# plt.yscale('log')\n",
    "\n",
    "# subplot 2: funded amount\n",
    "plt.subplot(1, 3, 2)\n",
    "sns.boxplot(x='loan_status', y='funded_amnt', data=ln)\n",
    "plt.title(\"Funded Amount\")\n",
    "# plt.yscale('log')\n",
    "\n",
    "# subplot 2: invsetor funded amount\n",
    "plt.subplot(1, 3, 3)\n",
    "sns.boxplot(x='loan_status', y='funded_amnt_inv', data=ln)\n",
    "plt.title(\"Inv Funded Amount\")\n",
    "# plt.yscale('log')\n",
    "\n",
    "\n",
    "plt.show()"
   ]
  },
  {
   "cell_type": "markdown",
   "metadata": {},
   "source": [
    "Points (From pivot table and graph):\n",
    "1. Correlation between loan_amnt -> Funded Amount =.98 and loan_amnt -> funded_amnt_inv =.94 and Funded Amount -> funded_amnt_inv =.96\n",
    " thats means this is heavily correlated where the case is Investor has almost funded the loan amount.\n",
    "2. The Average funding for defaulter customer is higher than fully paid customer in all the fund category (loan_amnt, Funded Amoun and funded_amnt_inv )"
   ]
  },
  {
   "cell_type": "markdown",
   "metadata": {},
   "source": [
    "# With Term "
   ]
  },
  {
   "cell_type": "markdown",
   "metadata": {},
   "source": [
    "### Univariant analysis of terms"
   ]
  },
  {
   "cell_type": "code",
   "execution_count": 32,
   "metadata": {},
   "outputs": [
    {
     "data": {
      "image/png": "[encoded data removed]",
      "text/plain": [
       "<Figure size 288x216 with 1 Axes>"
      ]
     },
     "metadata": {
      "needs_background": "light"
     },
     "output_type": "display_data"
    }
   ],
   "source": [
    "# Univariant analysis of terms with plot\n",
    "plt.figure(figsize=(4, 3))\n",
    "sns.countplot(y=\"term\", data=ln)\n",
    "plt.title(\"Different term count\")\n",
    "plt.show()\n"
   ]
  },
  {
   "cell_type": "code",
   "execution_count": 35,
   "metadata": {},
   "outputs": [
    {
     "data": {
      "text/html": [
       "<div>\n",
       "<style scoped>\n",
       "    .dataframe tbody tr th:only-of-type {\n",
       "        vertical-align: middle;\n",
       "    }\n",
       "\n",
       "    .dataframe tbody tr th {\n",
       "        vertical-align: top;\n",
       "    }\n",
       "\n",
       "    .dataframe thead th {\n",
       "        text-align: right;\n",
       "    }\n",
       "</style>\n",
       "<table border=\"1\" class=\"dataframe\">\n",
       "  <thead>\n",
       "    <tr style=\"text-align: right;\">\n",
       "      <th>term</th>\n",
       "      <th>36 months</th>\n",
       "      <th>60 months</th>\n",
       "    </tr>\n",
       "    <tr>\n",
       "      <th>loan_status</th>\n",
       "      <th></th>\n",
       "      <th></th>\n",
       "    </tr>\n",
       "  </thead>\n",
       "  <tbody>\n",
       "    <tr>\n",
       "      <th>Charged Off</th>\n",
       "      <td>8074.461124</td>\n",
       "      <td>14615.989769</td>\n",
       "    </tr>\n",
       "    <tr>\n",
       "      <th>Fully Paid</th>\n",
       "      <td>8939.745607</td>\n",
       "      <td>14398.490848</td>\n",
       "    </tr>\n",
       "  </tbody>\n",
       "</table>\n",
       "</div>"
      ],
      "text/plain": [
       "term           36 months     60 months\n",
       "loan_status                           \n",
       "Charged Off  8074.461124  14615.989769\n",
       "Fully Paid   8939.745607  14398.490848"
      ]
     },
     "execution_count": 35,
     "metadata": {},
     "output_type": "execute_result"
    }
   ],
   "source": [
    "# Average mean amount und invested in terms\n",
    "ln.pivot_table(values = 'funded_amnt_inv', columns = 'term', index = 'loan_status', aggfunc = 'mean')"
   ]
  },
  {
   "cell_type": "code",
   "execution_count": 22,
   "metadata": {},
   "outputs": [
    {
     "data": {
      "image/png": "[encoded data removed]",
      "text/plain": [
       "<Figure size 480x360 with 1 Axes>"
      ]
     },
     "metadata": {},
     "output_type": "display_data"
    }
   ],
   "source": [
    "# with plot mean distribution\n",
    "plt.figure(num=None, figsize=(8, 6), dpi=60, facecolor='w', edgecolor='r')\n",
    "colors = [\"#FF0B04\", \"#4374B3\"]\n",
    "sns.set_palette(sns.color_palette(colors))\n",
    "sns.barplot(x='term', y='funded_amnt_inv', hue=\"loan_status\", data=ln)\n",
    "plt.show()"
   ]
  },
  {
   "cell_type": "code",
   "execution_count": 23,
   "metadata": {},
   "outputs": [
    {
     "data": {
      "image/png": "[encoded data removed]",
      "text/plain": [
       "<Figure size 480x360 with 1 Axes>"
      ]
     },
     "metadata": {},
     "output_type": "display_data"
    }
   ],
   "source": [
    "# with plot number borrower in all the terms\n",
    "plt.figure(num=None, figsize=(8, 6), dpi=60, facecolor='w', edgecolor='r')\n",
    "sns.countplot(x=\"term\", hue=\"loan_status\", data=ln)\n",
    "plt.show()"
   ]
  },
  {
   "cell_type": "code",
   "execution_count": 24,
   "metadata": {},
   "outputs": [
    {
     "data": {
      "text/html": [
       "<div>\n",
       "<style scoped>\n",
       "    .dataframe tbody tr th:only-of-type {\n",
       "        vertical-align: middle;\n",
       "    }\n",
       "\n",
       "    .dataframe tbody tr th {\n",
       "        vertical-align: top;\n",
       "    }\n",
       "\n",
       "    .dataframe thead th {\n",
       "        text-align: right;\n",
       "    }\n",
       "</style>\n",
       "<table border=\"1\" class=\"dataframe\">\n",
       "  <thead>\n",
       "    <tr style=\"text-align: right;\">\n",
       "      <th>loan_status</th>\n",
       "      <th>Charged Off</th>\n",
       "      <th>Fully Paid</th>\n",
       "    </tr>\n",
       "    <tr>\n",
       "      <th>term</th>\n",
       "      <th></th>\n",
       "      <th></th>\n",
       "    </tr>\n",
       "  </thead>\n",
       "  <tbody>\n",
       "    <tr>\n",
       "      <th>36 months</th>\n",
       "      <td>11.090872</td>\n",
       "      <td>88.909128</td>\n",
       "    </tr>\n",
       "    <tr>\n",
       "      <th>60 months</th>\n",
       "      <td>25.313785</td>\n",
       "      <td>74.686215</td>\n",
       "    </tr>\n",
       "  </tbody>\n",
       "</table>\n",
       "</div>"
      ],
      "text/plain": [
       "loan_status  Charged Off  Fully Paid\n",
       "term                                \n",
       " 36 months     11.090872   88.909128\n",
       " 60 months     25.313785   74.686215"
      ]
     },
     "execution_count": 24,
     "metadata": {},
     "output_type": "execute_result"
    }
   ],
   "source": [
    "# To find the maximum percentage of defaulter in term\n",
    "ln.groupby(['term','loan_status']).size().groupby(level=0).apply(lambda x : x*100/x.sum()).unstack().sort_values(by = \"Charged Off\",ascending = True).head()"
   ]
  },
  {
   "cell_type": "markdown",
   "metadata": {},
   "source": [
    "Points :\n",
    "        1. The defaulter percentage is more than twice in 60 months term than 30 months term. i.e 25.31%\n",
    "        "
   ]
  },
  {
   "cell_type": "markdown",
   "metadata": {},
   "source": [
    "### plot in percentage of defaulter and fully paid with terms\n",
    "### Bivariant analysis"
   ]
  },
  {
   "cell_type": "code",
   "execution_count": 26,
   "metadata": {},
   "outputs": [
    {
     "data": {
      "image/png": "[encoded data removed]",
      "text/plain": [
       "<Figure size 432x288 with 1 Axes>"
      ]
     },
     "metadata": {
      "needs_background": "light"
     },
     "output_type": "display_data"
    }
   ],
   "source": [
    "# # plot in percentage defaulter and fully paid\n",
    "# Bivariant analysis\n",
    "import matplotlib.ticker as mtick\n",
    "\n",
    "ln.groupby(['term','loan_status']).size().groupby(level=0).apply(lambda x : x*100/x.sum()).unstack().sort_values(by = \"Charged Off\",ascending = False).plot(kind='bar')\n",
    "\n",
    "plt.gca().yaxis.set_major_formatter(mtick.PercentFormatter())\n",
    "plt.show()"
   ]
  },
  {
   "cell_type": "markdown",
   "metadata": {},
   "source": [
    "# with Interest Rate"
   ]
  },
  {
   "cell_type": "markdown",
   "metadata": {},
   "source": [
    "### Univariant Analysis - Interest Rate"
   ]
  },
  {
   "cell_type": "code",
   "execution_count": 49,
   "metadata": {},
   "outputs": [
    {
     "data": {
      "text/plain": [
       "count    38577.000000\n",
       "mean        11.932219\n",
       "std          3.691327\n",
       "min          5.420000\n",
       "25%          8.940000\n",
       "50%         11.710000\n",
       "75%         14.380000\n",
       "max         24.400000\n",
       "Name: int_rate, dtype: float64"
      ]
     },
     "execution_count": 49,
     "metadata": {},
     "output_type": "execute_result"
    }
   ],
   "source": [
    "ln['int_rate'].describe()"
   ]
  },
  {
   "cell_type": "code",
   "execution_count": 41,
   "metadata": {},
   "outputs": [
    {
     "data": {
      "image/png": "[encoded data removed]",
      "text/plain": [
       "<Figure size 360x288 with 1 Axes>"
      ]
     },
     "metadata": {},
     "output_type": "display_data"
    }
   ],
   "source": [
    "# box plot of interest\n",
    "plt.figure(figsize=(5,4))\n",
    "sns.boxplot(y=ln['int_rate'])\n",
    "plt.title('Interest rate distribution')\n",
    "plt.show()\n"
   ]
  },
  {
   "cell_type": "markdown",
   "metadata": {},
   "source": [
    "### Biivariant Analysis - Interest Rate with loan Status"
   ]
  },
  {
   "cell_type": "code",
   "execution_count": 33,
   "metadata": {},
   "outputs": [
    {
     "data": {
      "image/png": "[encoded data removed]",
      "text/plain": [
       "<Figure size 432x288 with 1 Axes>"
      ]
     },
     "metadata": {},
     "output_type": "display_data"
    }
   ],
   "source": [
    "\n",
    "sns.set(style=\"white\")\n",
    "ln[\"int_rate\"] = ln[\"int_rate\"].str.replace(\"%\", \"\").astype(\"float64\")\n",
    "sns.boxplot(x='loan_status', y='int_rate', data=ln)\n",
    "plt.show()"
   ]
  },
  {
   "cell_type": "code",
   "execution_count": 42,
   "metadata": {},
   "outputs": [
    {
     "name": "stdout",
     "output_type": "stream",
     "text": [
      "rate of interest in different quartile for defaulted customer\n",
      "0.75    16.40\n",
      "0.50    13.61\n",
      "0.25    11.31\n",
      "Name: int_rate, dtype: float64\n",
      "rate of interest in different quartile for  customer\n",
      "0.75    13.99\n",
      "0.50    11.49\n",
      "0.25     8.49\n",
      "Name: int_rate, dtype: float64\n"
     ]
    }
   ],
   "source": [
    "print(\"rate of interest in different quartile for defaulted customer\")\n",
    "print((ln.loc[(ln[\"loan_status\"] == \"Charged Off\"), :])[\"int_rate\"].quantile([.75,.50,.25]))\n",
    "print(\"rate of interest in different quartile for  customer\")\n",
    "print((ln.loc[(ln[\"loan_status\"] == \"Fully Paid\"), :])[\"int_rate\"].quantile([.75,.50,.25]))"
   ]
  },
  {
   "cell_type": "code",
   "execution_count": 43,
   "metadata": {},
   "outputs": [
    {
     "data": {
      "image/png": "[encoded data removed]",
      "text/plain": [
       "<Figure size 432x288 with 1 Axes>"
      ]
     },
     "metadata": {},
     "output_type": "display_data"
    }
   ],
   "source": [
    "sns.barplot(x='loan_status', y='int_rate', data=ln)\n",
    "plt.show()"
   ]
  },
  {
   "cell_type": "markdown",
   "metadata": {},
   "source": [
    "Points :\n",
    "     from the trends we can observe people wth high interest rate tends to defaulter, Also we can say the median of fully paid customer is equal to lower quartile of customer who does not paid."
   ]
  },
  {
   "cell_type": "markdown",
   "metadata": {},
   "source": [
    "## Installment"
   ]
  },
  {
   "cell_type": "markdown",
   "metadata": {},
   "source": [
    "### Univariant Analysis - Installment"
   ]
  },
  {
   "cell_type": "code",
   "execution_count": 48,
   "metadata": {},
   "outputs": [
    {
     "data": {
      "text/plain": [
       "count    38577.000000\n",
       "mean       322.466318\n",
       "std        208.639215\n",
       "min         15.690000\n",
       "25%        165.740000\n",
       "50%        277.860000\n",
       "75%        425.550000\n",
       "max       1305.190000\n",
       "Name: installment, dtype: float64"
      ]
     },
     "execution_count": 48,
     "metadata": {},
     "output_type": "execute_result"
    }
   ],
   "source": [
    "ln[\"installment\"].describe()"
   ]
  },
  {
   "cell_type": "code",
   "execution_count": 46,
   "metadata": {},
   "outputs": [
    {
     "data": {
      "image/png": "[encoded data removed]",
      "text/plain": [
       "<Figure size 360x288 with 1 Axes>"
      ]
     },
     "metadata": {},
     "output_type": "display_data"
    }
   ],
   "source": [
    "# box plot of Installment\n",
    "plt.figure(figsize=(5,4))\n",
    "sns.boxplot(y=ln['installment'])\n",
    "plt.title('Installment distribution')\n",
    "plt.show()"
   ]
  },
  {
   "cell_type": "code",
   "execution_count": 44,
   "metadata": {},
   "outputs": [
    {
     "data": {
      "image/png": "[encoded data removed]",
      "text/plain": [
       "<Figure size 432x288 with 1 Axes>"
      ]
     },
     "metadata": {},
     "output_type": "display_data"
    }
   ],
   "source": [
    "sns.set(style=\"white\")\n",
    "sns.boxplot(x='loan_status', y='installment', data=ln)\n",
    "plt.show()"
   ]
  },
  {
   "cell_type": "code",
   "execution_count": 50,
   "metadata": {},
   "outputs": [
    {
     "name": "stdout",
     "output_type": "stream",
     "text": [
      "0.75    457.840\n",
      "0.50    293.870\n",
      "0.25    168.555\n",
      "Name: installment, dtype: float64\n",
      "0.75    420.7350\n",
      "0.50    275.6500\n",
      "0.25    165.2825\n",
      "Name: installment, dtype: float64\n"
     ]
    }
   ],
   "source": [
    "# quantile check\n",
    "print((ln.loc[(ln[\"loan_status\"] == \"Charged Off\"), :])[\"installment\"].quantile([.75,.50,.25]))\n",
    "print((ln.loc[(ln[\"loan_status\"] == \"Fully Paid\"), :])[\"installment\"].quantile([.75,.50,.25]))"
   ]
  },
  {
   "cell_type": "code",
   "execution_count": 231,
   "metadata": {},
   "outputs": [
    {
     "data": {
      "image/png": "[encoded data removed]",
      "text/plain": [
       "<Figure size 432x288 with 1 Axes>"
      ]
     },
     "metadata": {},
     "output_type": "display_data"
    }
   ],
   "source": [
    "sns.barplot(x='loan_status', y='installment', data=ln)\n",
    "plt.show()"
   ]
  },
  {
   "cell_type": "code",
   "execution_count": 232,
   "metadata": {},
   "outputs": [
    {
     "data": {
      "text/html": [
       "<div>\n",
       "<style scoped>\n",
       "    .dataframe tbody tr th:only-of-type {\n",
       "        vertical-align: middle;\n",
       "    }\n",
       "\n",
       "    .dataframe tbody tr th {\n",
       "        vertical-align: top;\n",
       "    }\n",
       "\n",
       "    .dataframe thead th {\n",
       "        text-align: right;\n",
       "    }\n",
       "</style>\n",
       "<table border=\"1\" class=\"dataframe\">\n",
       "  <thead>\n",
       "    <tr style=\"text-align: right;\">\n",
       "      <th></th>\n",
       "      <th>installment</th>\n",
       "    </tr>\n",
       "    <tr>\n",
       "      <th>loan_status</th>\n",
       "      <th></th>\n",
       "    </tr>\n",
       "  </thead>\n",
       "  <tbody>\n",
       "    <tr>\n",
       "      <th>Charged Off</th>\n",
       "      <td>336.175006</td>\n",
       "    </tr>\n",
       "    <tr>\n",
       "      <th>Fully Paid</th>\n",
       "      <td>320.125232</td>\n",
       "    </tr>\n",
       "  </tbody>\n",
       "</table>\n",
       "</div>"
      ],
      "text/plain": [
       "             installment\n",
       "loan_status             \n",
       "Charged Off   336.175006\n",
       "Fully Paid    320.125232"
      ]
     },
     "execution_count": 232,
     "metadata": {},
     "output_type": "execute_result"
    }
   ],
   "source": [
    "ln.pivot_table(values = 'installment', index = 'loan_status', aggfunc = 'mean')"
   ]
  },
  {
   "cell_type": "markdown",
   "metadata": {},
   "source": [
    "Points :\n",
    "    Average installment for defaulted customer is more than fully paid"
   ]
  },
  {
   "cell_type": "markdown",
   "metadata": {},
   "source": [
    "## Grade and Subgrade"
   ]
  },
  {
   "cell_type": "markdown",
   "metadata": {},
   "source": [
    "### Univariant Analysis - Grade"
   ]
  },
  {
   "cell_type": "code",
   "execution_count": 54,
   "metadata": {},
   "outputs": [
    {
     "data": {
      "image/png": "[encoded data removed]",
      "text/plain": [
       "<Figure size 288x216 with 1 Axes>"
      ]
     },
     "metadata": {},
     "output_type": "display_data"
    }
   ],
   "source": [
    "#counnter plot of grade\n",
    "plt.figure(figsize=(4, 3))\n",
    "sns.countplot(y=\"grade\", data=ln)\n",
    "plt.title(\"Different grade borrower count\")\n",
    "plt.show()"
   ]
  },
  {
   "cell_type": "code",
   "execution_count": 52,
   "metadata": {
    "scrolled": true
   },
   "outputs": [
    {
     "data": {
      "image/png": "[encoded data removed]",
      "text/plain": [
       "<Figure size 432x360 with 1 Axes>"
      ]
     },
     "metadata": {},
     "output_type": "display_data"
    }
   ],
   "source": [
    "# Number of borrower in differnt grade\n",
    "plt.figure(figsize=(6, 5))\n",
    "colors = [\"#FF0B04\", \"#4374B3\"]\n",
    "sns.set_palette(sns.color_palette(colors))\n",
    "sns.countplot(y=\"grade\", hue=\"loan_status\", data=ln)\n",
    "plt.title(\"Grade wise distribution\")\n",
    "plt.show()"
   ]
  },
  {
   "cell_type": "code",
   "execution_count": 57,
   "metadata": {},
   "outputs": [],
   "source": [
    "### Bivariant analysis- Grade"
   ]
  },
  {
   "cell_type": "code",
   "execution_count": 56,
   "metadata": {},
   "outputs": [
    {
     "data": {
      "image/png": "[encoded data removed]",
      "text/plain": [
       "<Figure size 432x288 with 1 Axes>"
      ]
     },
     "metadata": {},
     "output_type": "display_data"
    }
   ],
   "source": [
    "#Check the highest borrower in different Grade\n",
    "ln.groupby(['grade','loan_status']).size().groupby(level=0).apply(lambda x : x*100/x.sum()).unstack().sort_values(by = \"Charged Off\",ascending = False).plot(kind='bar')\n",
    "plt.gca().yaxis.set_major_formatter(mtick.PercentFormatter())\n",
    "plt.show()"
   ]
  },
  {
   "cell_type": "code",
   "execution_count": 59,
   "metadata": {},
   "outputs": [
    {
     "data": {
      "text/html": [
       "<div>\n",
       "<style scoped>\n",
       "    .dataframe tbody tr th:only-of-type {\n",
       "        vertical-align: middle;\n",
       "    }\n",
       "\n",
       "    .dataframe tbody tr th {\n",
       "        vertical-align: top;\n",
       "    }\n",
       "\n",
       "    .dataframe thead th {\n",
       "        text-align: right;\n",
       "    }\n",
       "</style>\n",
       "<table border=\"1\" class=\"dataframe\">\n",
       "  <thead>\n",
       "    <tr style=\"text-align: right;\">\n",
       "      <th>loan_status</th>\n",
       "      <th>Charged Off</th>\n",
       "      <th>Fully Paid</th>\n",
       "    </tr>\n",
       "    <tr>\n",
       "      <th>grade</th>\n",
       "      <th></th>\n",
       "      <th></th>\n",
       "    </tr>\n",
       "  </thead>\n",
       "  <tbody>\n",
       "    <tr>\n",
       "      <th>G</th>\n",
       "      <td>33.779264</td>\n",
       "      <td>66.220736</td>\n",
       "    </tr>\n",
       "    <tr>\n",
       "      <th>F</th>\n",
       "      <td>32.684426</td>\n",
       "      <td>67.315574</td>\n",
       "    </tr>\n",
       "    <tr>\n",
       "      <th>E</th>\n",
       "      <td>26.849418</td>\n",
       "      <td>73.150582</td>\n",
       "    </tr>\n",
       "    <tr>\n",
       "      <th>D</th>\n",
       "      <td>21.986234</td>\n",
       "      <td>78.013766</td>\n",
       "    </tr>\n",
       "    <tr>\n",
       "      <th>C</th>\n",
       "      <td>17.194281</td>\n",
       "      <td>82.805719</td>\n",
       "    </tr>\n",
       "    <tr>\n",
       "      <th>B</th>\n",
       "      <td>12.205567</td>\n",
       "      <td>87.794433</td>\n",
       "    </tr>\n",
       "    <tr>\n",
       "      <th>A</th>\n",
       "      <td>5.993031</td>\n",
       "      <td>94.006969</td>\n",
       "    </tr>\n",
       "  </tbody>\n",
       "</table>\n",
       "</div>"
      ],
      "text/plain": [
       "loan_status  Charged Off  Fully Paid\n",
       "grade                               \n",
       "G              33.779264   66.220736\n",
       "F              32.684426   67.315574\n",
       "E              26.849418   73.150582\n",
       "D              21.986234   78.013766\n",
       "C              17.194281   82.805719\n",
       "B              12.205567   87.794433\n",
       "A               5.993031   94.006969"
      ]
     },
     "execution_count": 59,
     "metadata": {},
     "output_type": "execute_result"
    }
   ],
   "source": [
    "ln.groupby(['grade','loan_status']).size().groupby(level=0).apply(lambda x : x*100/x.sum()).unstack().sort_values(by = \"Charged Off\",ascending = False)"
   ]
  },
  {
   "attachments": {},
   "cell_type": "markdown",
   "metadata": {},
   "source": [
    "Point :\n",
    "Grade G has the highest percentage defaulter rate of borrower with 33.77%"
   ]
  },
  {
   "cell_type": "markdown",
   "metadata": {},
   "source": [
    "## SubGrade"
   ]
  },
  {
   "cell_type": "markdown",
   "metadata": {},
   "source": [
    "### Univariant Analysis - Subgrade"
   ]
  },
  {
   "cell_type": "code",
   "execution_count": 62,
   "metadata": {},
   "outputs": [
    {
     "data": {
      "image/png": "[encoded data removed]",
      "text/plain": [
       "<Figure size 864x576 with 1 Axes>"
      ]
     },
     "metadata": {},
     "output_type": "display_data"
    }
   ],
   "source": [
    "plt.figure(figsize=(12, 8))\n",
    "sns.countplot(y=\"sub_grade\", data=ln)\n",
    "plt.title(\"Borrower in subgrade\")\n",
    "plt.show()"
   ]
  },
  {
   "cell_type": "markdown",
   "metadata": {},
   "source": [
    "A4 grade has highest number of borrower"
   ]
  },
  {
   "cell_type": "markdown",
   "metadata": {},
   "source": [
    "## Bivariant analysis: SubGrade"
   ]
  },
  {
   "cell_type": "code",
   "execution_count": 65,
   "metadata": {},
   "outputs": [
    {
     "data": {
      "image/png": "[encoded data removed]",
      "text/plain": [
       "<Figure size 432x288 with 1 Axes>"
      ]
     },
     "metadata": {},
     "output_type": "display_data"
    }
   ],
   "source": [
    "# lets plot with percentage \n",
    "ln.groupby(['sub_grade','loan_status']).size().groupby(level=0).apply(lambda x : x*100/x.sum()).unstack().sort_values(by = \"Charged Off\",ascending = False).head(10).plot(kind='bar')\n",
    "plt.gca().yaxis.set_major_formatter(mtick.PercentFormatter())\n",
    "plt.show()"
   ]
  },
  {
   "cell_type": "code",
   "execution_count": 67,
   "metadata": {},
   "outputs": [
    {
     "data": {
      "text/html": [
       "<div>\n",
       "<style scoped>\n",
       "    .dataframe tbody tr th:only-of-type {\n",
       "        vertical-align: middle;\n",
       "    }\n",
       "\n",
       "    .dataframe tbody tr th {\n",
       "        vertical-align: top;\n",
       "    }\n",
       "\n",
       "    .dataframe thead th {\n",
       "        text-align: right;\n",
       "    }\n",
       "</style>\n",
       "<table border=\"1\" class=\"dataframe\">\n",
       "  <thead>\n",
       "    <tr style=\"text-align: right;\">\n",
       "      <th>loan_status</th>\n",
       "      <th>Charged Off</th>\n",
       "      <th>Fully Paid</th>\n",
       "    </tr>\n",
       "    <tr>\n",
       "      <th>sub_grade</th>\n",
       "      <th></th>\n",
       "      <th></th>\n",
       "    </tr>\n",
       "  </thead>\n",
       "  <tbody>\n",
       "    <tr>\n",
       "      <th>F5</th>\n",
       "      <td>47.787611</td>\n",
       "      <td>52.212389</td>\n",
       "    </tr>\n",
       "    <tr>\n",
       "      <th>G3</th>\n",
       "      <td>42.222222</td>\n",
       "      <td>57.777778</td>\n",
       "    </tr>\n",
       "    <tr>\n",
       "      <th>G2</th>\n",
       "      <td>36.363636</td>\n",
       "      <td>63.636364</td>\n",
       "    </tr>\n",
       "    <tr>\n",
       "      <th>F4</th>\n",
       "      <td>35.099338</td>\n",
       "      <td>64.900662</td>\n",
       "    </tr>\n",
       "    <tr>\n",
       "      <th>G5</th>\n",
       "      <td>34.482759</td>\n",
       "      <td>65.517241</td>\n",
       "    </tr>\n",
       "  </tbody>\n",
       "</table>\n",
       "</div>"
      ],
      "text/plain": [
       "loan_status  Charged Off  Fully Paid\n",
       "sub_grade                           \n",
       "F5             47.787611   52.212389\n",
       "G3             42.222222   57.777778\n",
       "G2             36.363636   63.636364\n",
       "F4             35.099338   64.900662\n",
       "G5             34.482759   65.517241"
      ]
     },
     "execution_count": 67,
     "metadata": {},
     "output_type": "execute_result"
    }
   ],
   "source": [
    "# Percentage of defaulter in subgrade\n",
    "ln.groupby(['sub_grade','loan_status']).size().groupby(level=0).apply(lambda x : x*100/x.sum()).unstack().sort_values(by = \"Charged Off\",ascending = False).head()"
   ]
  },
  {
   "cell_type": "markdown",
   "metadata": {},
   "source": [
    "Points :\n",
    "    F5 subgrade has the highest number defaulter borrower"
   ]
  },
  {
   "cell_type": "markdown",
   "metadata": {},
   "source": [
    "## Employment Length \n",
    "emp_length"
   ]
  },
  {
   "cell_type": "markdown",
   "metadata": {},
   "source": [
    "### Univariant Analysis - Employment Length "
   ]
  },
  {
   "cell_type": "code",
   "execution_count": 69,
   "metadata": {},
   "outputs": [
    {
     "data": {
      "image/png": "[encoded data removed]",
      "text/plain": [
       "<Figure size 288x216 with 1 Axes>"
      ]
     },
     "metadata": {},
     "output_type": "display_data"
    }
   ],
   "source": [
    "#counter plot\n",
    "plt.figure(figsize=(4, 3))\n",
    "sns.countplot(y=\"emp_length\", data=ln)\n",
    "plt.title(\"Different term count\")\n",
    "plt.show()"
   ]
  },
  {
   "cell_type": "code",
   "execution_count": 70,
   "metadata": {},
   "outputs": [
    {
     "data": {
      "image/png": "[encoded data removed]",
      "text/plain": [
       "<Figure size 432x360 with 1 Axes>"
      ]
     },
     "metadata": {},
     "output_type": "display_data"
    }
   ],
   "source": [
    "#Counter plot bivariant with loan status\n",
    "plt.figure(figsize=(6, 5))\n",
    "colors = [\"#FF0B04\", \"#4374B3\"]\n",
    "sns.set_palette(sns.color_palette(colors))\n",
    "sns.countplot(y=\"emp_length\", hue=\"loan_status\", data=ln)\n",
    "plt.title(\"employment length distribution\")\n",
    "plt.show()"
   ]
  },
  {
   "cell_type": "markdown",
   "metadata": {},
   "source": [
    "which category of employment has maximum defaulter"
   ]
  },
  {
   "cell_type": "code",
   "execution_count": 71,
   "metadata": {},
   "outputs": [
    {
     "data": {
      "text/html": [
       "<div>\n",
       "<style scoped>\n",
       "    .dataframe tbody tr th:only-of-type {\n",
       "        vertical-align: middle;\n",
       "    }\n",
       "\n",
       "    .dataframe tbody tr th {\n",
       "        vertical-align: top;\n",
       "    }\n",
       "\n",
       "    .dataframe thead th {\n",
       "        text-align: right;\n",
       "    }\n",
       "</style>\n",
       "<table border=\"1\" class=\"dataframe\">\n",
       "  <thead>\n",
       "    <tr style=\"text-align: right;\">\n",
       "      <th>loan_status</th>\n",
       "      <th>Charged Off</th>\n",
       "      <th>Fully Paid</th>\n",
       "    </tr>\n",
       "    <tr>\n",
       "      <th>emp_length</th>\n",
       "      <th></th>\n",
       "      <th></th>\n",
       "    </tr>\n",
       "  </thead>\n",
       "  <tbody>\n",
       "    <tr>\n",
       "      <th>10+ years</th>\n",
       "      <td>15.680961</td>\n",
       "      <td>84.319039</td>\n",
       "    </tr>\n",
       "    <tr>\n",
       "      <th>7 years</th>\n",
       "      <td>15.371128</td>\n",
       "      <td>84.628872</td>\n",
       "    </tr>\n",
       "    <tr>\n",
       "      <th>1 year</th>\n",
       "      <td>14.389397</td>\n",
       "      <td>85.610603</td>\n",
       "    </tr>\n",
       "    <tr>\n",
       "      <th>5 years</th>\n",
       "      <td>14.339386</td>\n",
       "      <td>85.660614</td>\n",
       "    </tr>\n",
       "    <tr>\n",
       "      <th>&lt; 1 year</th>\n",
       "      <td>14.174800</td>\n",
       "      <td>85.825200</td>\n",
       "    </tr>\n",
       "  </tbody>\n",
       "</table>\n",
       "</div>"
      ],
      "text/plain": [
       "loan_status  Charged Off  Fully Paid\n",
       "emp_length                          \n",
       "10+ years      15.680961   84.319039\n",
       "7 years        15.371128   84.628872\n",
       "1 year         14.389397   85.610603\n",
       "5 years        14.339386   85.660614\n",
       "< 1 year       14.174800   85.825200"
      ]
     },
     "execution_count": 71,
     "metadata": {},
     "output_type": "execute_result"
    }
   ],
   "source": [
    "ln.groupby(['emp_length','loan_status']).size().groupby(level=0).apply(lambda x : x*100/x.sum()).unstack().sort_values(by = \"Charged Off\",ascending = False).head()"
   ]
  },
  {
   "cell_type": "markdown",
   "metadata": {},
   "source": [
    "### Bivariant analysis - Employment Lenght"
   ]
  },
  {
   "cell_type": "code",
   "execution_count": 72,
   "metadata": {},
   "outputs": [
    {
     "data": {
      "image/png": "[encoded data removed]",
      "text/plain": [
       "<Figure size 432x288 with 1 Axes>"
      ]
     },
     "metadata": {},
     "output_type": "display_data"
    }
   ],
   "source": [
    "import matplotlib.ticker as mtick\n",
    "ln.groupby(['emp_length','loan_status']).size().groupby(level=0).apply(lambda x : x*100/x.sum()).unstack().sort_values(by = \"Charged Off\",ascending = False).plot(kind='bar')\n",
    "\n",
    "plt.gca().yaxis.set_major_formatter(mtick.PercentFormatter())\n",
    "plt.show()"
   ]
  },
  {
   "cell_type": "markdown",
   "metadata": {},
   "source": [
    "from the highest percenatge 15.68 % defaulter is in in 10+ years"
   ]
  },
  {
   "cell_type": "markdown",
   "metadata": {},
   "source": [
    "## home_ownership"
   ]
  },
  {
   "cell_type": "markdown",
   "metadata": {},
   "source": [
    "### Univariant Analysis - Home Ownership"
   ]
  },
  {
   "cell_type": "code",
   "execution_count": 74,
   "metadata": {},
   "outputs": [
    {
     "data": {
      "image/png": "[encoded data removed]",
      "text/plain": [
       "<Figure size 288x216 with 1 Axes>"
      ]
     },
     "metadata": {},
     "output_type": "display_data"
    }
   ],
   "source": [
    "# counter plot\n",
    "plt.figure(figsize=(4, 3))\n",
    "sns.countplot(y=\"home_ownership\", data=ln)\n",
    "plt.title(\"Different home ownership borrower count\")\n",
    "plt.show()"
   ]
  },
  {
   "cell_type": "markdown",
   "metadata": {},
   "source": [
    "Points : \n",
    "    Rent ownership has the maximum borrower "
   ]
  },
  {
   "cell_type": "code",
   "execution_count": 75,
   "metadata": {},
   "outputs": [
    {
     "data": {
      "image/png": "[encoded data removed]",
      "text/plain": [
       "<Figure size 432x360 with 1 Axes>"
      ]
     },
     "metadata": {},
     "output_type": "display_data"
    }
   ],
   "source": [
    "plt.figure(figsize=(6, 5))\n",
    "colors = [\"#FF0B04\", \"#4374B3\"]\n",
    "sns.set_palette(sns.color_palette(colors))\n",
    "sns.countplot(y=\"home_ownership\", hue=\"loan_status\", data=ln)\n",
    "plt.title(\"home_ownership distribution\")\n",
    "plt.show()"
   ]
  },
  {
   "cell_type": "code",
   "execution_count": 81,
   "metadata": {},
   "outputs": [
    {
     "data": {
      "text/html": [
       "<div>\n",
       "<style scoped>\n",
       "    .dataframe tbody tr th:only-of-type {\n",
       "        vertical-align: middle;\n",
       "    }\n",
       "\n",
       "    .dataframe tbody tr th {\n",
       "        vertical-align: top;\n",
       "    }\n",
       "\n",
       "    .dataframe thead th {\n",
       "        text-align: right;\n",
       "    }\n",
       "</style>\n",
       "<table border=\"1\" class=\"dataframe\">\n",
       "  <thead>\n",
       "    <tr style=\"text-align: right;\">\n",
       "      <th>loan_status</th>\n",
       "      <th>Charged Off</th>\n",
       "      <th>Fully Paid</th>\n",
       "    </tr>\n",
       "    <tr>\n",
       "      <th>home_ownership</th>\n",
       "      <th></th>\n",
       "      <th></th>\n",
       "    </tr>\n",
       "  </thead>\n",
       "  <tbody>\n",
       "    <tr>\n",
       "      <th>OTHER</th>\n",
       "      <td>18.367347</td>\n",
       "      <td>81.632653</td>\n",
       "    </tr>\n",
       "    <tr>\n",
       "      <th>RENT</th>\n",
       "      <td>15.362554</td>\n",
       "      <td>84.637446</td>\n",
       "    </tr>\n",
       "    <tr>\n",
       "      <th>OWN</th>\n",
       "      <td>14.890756</td>\n",
       "      <td>85.109244</td>\n",
       "    </tr>\n",
       "    <tr>\n",
       "      <th>MORTGAGE</th>\n",
       "      <td>13.671347</td>\n",
       "      <td>86.328653</td>\n",
       "    </tr>\n",
       "    <tr>\n",
       "      <th>NONE</th>\n",
       "      <td>NaN</td>\n",
       "      <td>100.000000</td>\n",
       "    </tr>\n",
       "  </tbody>\n",
       "</table>\n",
       "</div>"
      ],
      "text/plain": [
       "loan_status     Charged Off  Fully Paid\n",
       "home_ownership                         \n",
       "OTHER             18.367347   81.632653\n",
       "RENT              15.362554   84.637446\n",
       "OWN               14.890756   85.109244\n",
       "MORTGAGE          13.671347   86.328653\n",
       "NONE                    NaN  100.000000"
      ]
     },
     "execution_count": 81,
     "metadata": {},
     "output_type": "execute_result"
    }
   ],
   "source": [
    "#Percentage of defaulter different home ownership\n",
    "ln.groupby(['home_ownership','loan_status']).size().groupby(level=0).apply(lambda x : x*100/x.sum()).unstack().sort_values(by = \"Charged Off\",ascending = False).head()"
   ]
  },
  {
   "cell_type": "markdown",
   "metadata": {},
   "source": [
    "### Bivariant analysis: home_ownership"
   ]
  },
  {
   "cell_type": "code",
   "execution_count": 80,
   "metadata": {},
   "outputs": [
    {
     "data": {
      "image/png": "[encoded data removed]",
      "text/plain": [
       "<Figure size 432x288 with 1 Axes>"
      ]
     },
     "metadata": {},
     "output_type": "display_data"
    }
   ],
   "source": [
    "\n",
    "ln.groupby(['home_ownership','loan_status']).size().groupby(level=0).apply(lambda x : x*100/x.sum()).unstack().sort_values(by = \"Charged Off\",ascending = False).plot(kind='bar')\n",
    "\n",
    "plt.gca().yaxis.set_major_formatter(mtick.PercentFormatter())\n",
    "plt.show()"
   ]
  },
  {
   "cell_type": "markdown",
   "metadata": {},
   "source": [
    "Maximum defaulter is Others group with percentage 18.4 %, 2nd highest is rent 15.4 %"
   ]
  },
  {
   "cell_type": "markdown",
   "metadata": {},
   "source": [
    "## Annual Income\n",
    "annual_inc"
   ]
  },
  {
   "cell_type": "markdown",
   "metadata": {},
   "source": [
    "### Univariant Analysis - Installment"
   ]
  },
  {
   "cell_type": "code",
   "execution_count": 83,
   "metadata": {},
   "outputs": [
    {
     "data": {
      "image/png": "[encoded data removed]",
      "text/plain": [
       "<Figure size 360x288 with 1 Axes>"
      ]
     },
     "metadata": {},
     "output_type": "display_data"
    }
   ],
   "source": [
    "# box plot of Annual Income\n",
    "plt.figure(figsize=(5,4))\n",
    "sns.boxplot(y=ln['annual_inc'])\n",
    "plt.title('annual_inc distribution')\n",
    "plt.yscale('log')\n",
    "plt.show()"
   ]
  },
  {
   "cell_type": "code",
   "execution_count": 84,
   "metadata": {},
   "outputs": [
    {
     "data": {
      "text/html": [
       "<div>\n",
       "<style scoped>\n",
       "    .dataframe tbody tr th:only-of-type {\n",
       "        vertical-align: middle;\n",
       "    }\n",
       "\n",
       "    .dataframe tbody tr th {\n",
       "        vertical-align: top;\n",
       "    }\n",
       "\n",
       "    .dataframe thead th {\n",
       "        text-align: right;\n",
       "    }\n",
       "</style>\n",
       "<table border=\"1\" class=\"dataframe\">\n",
       "  <thead>\n",
       "    <tr style=\"text-align: right;\">\n",
       "      <th></th>\n",
       "      <th>annual_inc</th>\n",
       "    </tr>\n",
       "    <tr>\n",
       "      <th>loan_status</th>\n",
       "      <th></th>\n",
       "    </tr>\n",
       "  </thead>\n",
       "  <tbody>\n",
       "    <tr>\n",
       "      <th>Charged Off</th>\n",
       "      <td>62427.298034</td>\n",
       "    </tr>\n",
       "    <tr>\n",
       "      <th>Fully Paid</th>\n",
       "      <td>69862.503328</td>\n",
       "    </tr>\n",
       "  </tbody>\n",
       "</table>\n",
       "</div>"
      ],
      "text/plain": [
       "               annual_inc\n",
       "loan_status              \n",
       "Charged Off  62427.298034\n",
       "Fully Paid   69862.503328"
      ]
     },
     "execution_count": 84,
     "metadata": {},
     "output_type": "execute_result"
    }
   ],
   "source": [
    "ln.pivot_table(values = 'annual_inc', index = 'loan_status', aggfunc = 'mean')"
   ]
  },
  {
   "cell_type": "code",
   "execution_count": 85,
   "metadata": {},
   "outputs": [
    {
     "data": {
      "text/html": [
       "<div>\n",
       "<style scoped>\n",
       "    .dataframe tbody tr th:only-of-type {\n",
       "        vertical-align: middle;\n",
       "    }\n",
       "\n",
       "    .dataframe tbody tr th {\n",
       "        vertical-align: top;\n",
       "    }\n",
       "\n",
       "    .dataframe thead th {\n",
       "        text-align: right;\n",
       "    }\n",
       "</style>\n",
       "<table border=\"1\" class=\"dataframe\">\n",
       "  <thead>\n",
       "    <tr style=\"text-align: right;\">\n",
       "      <th></th>\n",
       "      <th>annual_inc</th>\n",
       "    </tr>\n",
       "    <tr>\n",
       "      <th>loan_status</th>\n",
       "      <th></th>\n",
       "    </tr>\n",
       "  </thead>\n",
       "  <tbody>\n",
       "    <tr>\n",
       "      <th>Charged Off</th>\n",
       "      <td>1250000.0</td>\n",
       "    </tr>\n",
       "    <tr>\n",
       "      <th>Fully Paid</th>\n",
       "      <td>6000000.0</td>\n",
       "    </tr>\n",
       "  </tbody>\n",
       "</table>\n",
       "</div>"
      ],
      "text/plain": [
       "             annual_inc\n",
       "loan_status            \n",
       "Charged Off   1250000.0\n",
       "Fully Paid    6000000.0"
      ]
     },
     "execution_count": 85,
     "metadata": {},
     "output_type": "execute_result"
    }
   ],
   "source": [
    "ln.pivot_table(values = 'annual_inc', index = 'loan_status', aggfunc = 'max')"
   ]
  },
  {
   "cell_type": "code",
   "execution_count": 86,
   "metadata": {},
   "outputs": [
    {
     "data": {
      "image/png": "[encoded data removed]",
      "text/plain": [
       "<Figure size 576x432 with 1 Axes>"
      ]
     },
     "metadata": {},
     "output_type": "display_data"
    }
   ],
   "source": [
    "plt.figure(figsize=(8, 6))\n",
    "\n",
    "# subplot 1: loan amount\n",
    "\n",
    "sns.boxplot(x='loan_status', y='annual_inc', data=ln)\n",
    "plt.title(\"Annual Income\")\n",
    "plt.yscale('log')\n",
    "plt.show()"
   ]
  },
  {
   "cell_type": "code",
   "execution_count": 87,
   "metadata": {},
   "outputs": [
    {
     "data": {
      "image/png": "[encoded data removed]",
      "text/plain": [
       "<Figure size 576x432 with 1 Axes>"
      ]
     },
     "metadata": {},
     "output_type": "display_data"
    }
   ],
   "source": [
    "plt.figure(figsize=(8, 6))\n",
    "\n",
    "# subplot 1: loan amount\n",
    "\n",
    "sns.barplot(x='loan_status', y='annual_inc', data=ln)\n",
    "plt.title(\"Annual Income\")\n",
    "# plt.yscale('log')\n",
    "plt.show()"
   ]
  },
  {
   "cell_type": "code",
   "execution_count": 90,
   "metadata": {},
   "outputs": [
    {
     "data": {
      "text/plain": [
       "1.00    1250000.0\n",
       "0.95     129697.2\n",
       "0.75      75000.0\n",
       "0.50      53000.0\n",
       "0.25      37000.0\n",
       "Name: annual_inc, dtype: float64"
      ]
     },
     "execution_count": 90,
     "metadata": {},
     "output_type": "execute_result"
    }
   ],
   "source": [
    "(ln.loc[(ln[\"loan_status\"] == \"Charged Off\"), :])[\"annual_inc\"].quantile([1,.95,.75,.50,.25])"
   ]
  },
  {
   "cell_type": "code",
   "execution_count": 89,
   "metadata": {},
   "outputs": [
    {
     "data": {
      "text/plain": [
       "1.00    6000000.00\n",
       "0.95     144000.00\n",
       "0.75      84000.00\n",
       "0.50      60000.00\n",
       "0.25      41132.75\n",
       "Name: annual_inc, dtype: float64"
      ]
     },
     "execution_count": 89,
     "metadata": {},
     "output_type": "execute_result"
    }
   ],
   "source": [
    "(ln.loc[(ln[\"loan_status\"] == \"Fully Paid\"), :])[\"annual_inc\"].quantile([1,.95,.75,.50,.25])"
   ]
  },
  {
   "cell_type": "markdown",
   "metadata": {},
   "source": [
    "From above there is clear presence of outlier i.e for defaulter its 1250000 and fully paid its 6000000"
   ]
  },
  {
   "cell_type": "markdown",
   "metadata": {},
   "source": [
    "## Removing outlier for annual income"
   ]
  },
  {
   "cell_type": "code",
   "execution_count": 91,
   "metadata": {},
   "outputs": [],
   "source": [
    "low, high = ln.annual_inc.quantile([0.0,0.95])\n",
    "ln = ln.query('{low}<annual_inc<{high}'.format(low=low,high=high))\n",
    "# popl"
   ]
  },
  {
   "cell_type": "code",
   "execution_count": 92,
   "metadata": {},
   "outputs": [
    {
     "data": {
      "text/html": [
       "<div>\n",
       "<style scoped>\n",
       "    .dataframe tbody tr th:only-of-type {\n",
       "        vertical-align: middle;\n",
       "    }\n",
       "\n",
       "    .dataframe tbody tr th {\n",
       "        vertical-align: top;\n",
       "    }\n",
       "\n",
       "    .dataframe thead th {\n",
       "        text-align: right;\n",
       "    }\n",
       "</style>\n",
       "<table border=\"1\" class=\"dataframe\">\n",
       "  <thead>\n",
       "    <tr style=\"text-align: right;\">\n",
       "      <th></th>\n",
       "      <th>annual_inc</th>\n",
       "    </tr>\n",
       "    <tr>\n",
       "      <th>loan_status</th>\n",
       "      <th></th>\n",
       "    </tr>\n",
       "  </thead>\n",
       "  <tbody>\n",
       "    <tr>\n",
       "      <th>Charged Off</th>\n",
       "      <td>56410.900685</td>\n",
       "    </tr>\n",
       "    <tr>\n",
       "      <th>Fully Paid</th>\n",
       "      <td>61598.117976</td>\n",
       "    </tr>\n",
       "  </tbody>\n",
       "</table>\n",
       "</div>"
      ],
      "text/plain": [
       "               annual_inc\n",
       "loan_status              \n",
       "Charged Off  56410.900685\n",
       "Fully Paid   61598.117976"
      ]
     },
     "execution_count": 92,
     "metadata": {},
     "output_type": "execute_result"
    }
   ],
   "source": [
    "ln.pivot_table(values = 'annual_inc', index = 'loan_status', aggfunc = 'mean')"
   ]
  },
  {
   "cell_type": "code",
   "execution_count": 93,
   "metadata": {},
   "outputs": [
    {
     "data": {
      "image/png": "[encoded data removed]",
      "text/plain": [
       "<Figure size 576x432 with 1 Axes>"
      ]
     },
     "metadata": {},
     "output_type": "display_data"
    }
   ],
   "source": [
    "plt.figure(figsize=(8, 6))\n",
    "\n",
    "# subplot 1: loan amount\n",
    "\n",
    "sns.boxplot(x='loan_status', y='annual_inc', data=ln)\n",
    "plt.title(\"Annual Income\")\n",
    "# plt.yscale('log')\n",
    "plt.show()"
   ]
  },
  {
   "cell_type": "code",
   "execution_count": 95,
   "metadata": {},
   "outputs": [
    {
     "data": {
      "image/png": "[encoded data removed]",
      "text/plain": [
       "<Figure size 576x432 with 1 Axes>"
      ]
     },
     "metadata": {},
     "output_type": "display_data"
    }
   ],
   "source": [
    "plt.figure(figsize=(8, 6))\n",
    "\n",
    "# subplot 1: loan amount\n",
    "\n",
    "sns.barplot(x='loan_status', y='annual_inc', data=ln)\n",
    "plt.title(\"Annual Income\")\n",
    "# plt.yscale('log')\n",
    "plt.show()"
   ]
  },
  {
   "cell_type": "markdown",
   "metadata": {},
   "source": [
    "Hence we can canculude the average annual income for defaulted customer is less than full paid customer i.e 56410 "
   ]
  },
  {
   "cell_type": "markdown",
   "metadata": {},
   "source": [
    "## verfication status"
   ]
  },
  {
   "cell_type": "markdown",
   "metadata": {},
   "source": [
    "### Univariant Analysis - verfication status"
   ]
  },
  {
   "cell_type": "code",
   "execution_count": 97,
   "metadata": {},
   "outputs": [
    {
     "data": {
      "image/png": "[encoded data removed]",
      "text/plain": [
       "<Figure size 288x216 with 1 Axes>"
      ]
     },
     "metadata": {},
     "output_type": "display_data"
    }
   ],
   "source": [
    "# Univeriant plot\n",
    "plt.figure(figsize=(4, 3))\n",
    "sns.countplot(y=\"verification_status\", data=ln)\n",
    "plt.title(\"Different term count\")\n",
    "plt.show()"
   ]
  },
  {
   "cell_type": "code",
   "execution_count": 295,
   "metadata": {},
   "outputs": [
    {
     "data": {
      "image/png": "[encoded data removed]",
      "text/plain": [
       "<Figure size 432x360 with 1 Axes>"
      ]
     },
     "metadata": {},
     "output_type": "display_data"
    }
   ],
   "source": [
    "plt.figure(figsize=(6, 5))\n",
    "colors = [\"#FF0B04\", \"#4374B3\"]\n",
    "sns.set_palette(sns.color_palette(colors))\n",
    "sns.countplot(y=\"verification_status\", hue=\"loan_status\", data=ln)\n",
    "plt.title(\"Verification Status Distribution\")\n",
    "plt.show()"
   ]
  },
  {
   "cell_type": "code",
   "execution_count": 99,
   "metadata": {},
   "outputs": [
    {
     "data": {
      "text/html": [
       "<div>\n",
       "<style scoped>\n",
       "    .dataframe tbody tr th:only-of-type {\n",
       "        vertical-align: middle;\n",
       "    }\n",
       "\n",
       "    .dataframe tbody tr th {\n",
       "        vertical-align: top;\n",
       "    }\n",
       "\n",
       "    .dataframe thead th {\n",
       "        text-align: right;\n",
       "    }\n",
       "</style>\n",
       "<table border=\"1\" class=\"dataframe\">\n",
       "  <thead>\n",
       "    <tr style=\"text-align: right;\">\n",
       "      <th>loan_status</th>\n",
       "      <th>Charged Off</th>\n",
       "      <th>Fully Paid</th>\n",
       "    </tr>\n",
       "    <tr>\n",
       "      <th>verification_status</th>\n",
       "      <th></th>\n",
       "      <th></th>\n",
       "    </tr>\n",
       "  </thead>\n",
       "  <tbody>\n",
       "    <tr>\n",
       "      <th>Verified</th>\n",
       "      <td>17.371143</td>\n",
       "      <td>82.628857</td>\n",
       "    </tr>\n",
       "    <tr>\n",
       "      <th>Source Verified</th>\n",
       "      <td>15.005464</td>\n",
       "      <td>84.994536</td>\n",
       "    </tr>\n",
       "    <tr>\n",
       "      <th>Not Verified</th>\n",
       "      <td>12.870922</td>\n",
       "      <td>87.129078</td>\n",
       "    </tr>\n",
       "  </tbody>\n",
       "</table>\n",
       "</div>"
      ],
      "text/plain": [
       "loan_status          Charged Off  Fully Paid\n",
       "verification_status                         \n",
       "Verified               17.371143   82.628857\n",
       "Source Verified        15.005464   84.994536\n",
       "Not Verified           12.870922   87.129078"
      ]
     },
     "execution_count": 99,
     "metadata": {},
     "output_type": "execute_result"
    }
   ],
   "source": [
    "ln.groupby(['verification_status','loan_status']).size().groupby(level=0).apply(lambda x : x*100/x.sum()).unstack().sort_values(by = \"Charged Off\",ascending = False).head()"
   ]
  },
  {
   "cell_type": "markdown",
   "metadata": {},
   "source": [
    "Hence highest rate of defaulter is in Verified i.e 17.37.\n",
    "Let plot the diagram"
   ]
  },
  {
   "cell_type": "markdown",
   "metadata": {},
   "source": [
    "### Bivariant analysis: Verification Status"
   ]
  },
  {
   "cell_type": "code",
   "execution_count": 100,
   "metadata": {},
   "outputs": [
    {
     "data": {
      "image/png": "[encoded data removed]",
      "text/plain": [
       "<Figure size 432x288 with 1 Axes>"
      ]
     },
     "metadata": {},
     "output_type": "display_data"
    }
   ],
   "source": [
    "ln.groupby(['verification_status','loan_status']).size().groupby(level=0).apply(lambda x : x*100/x.sum()).unstack().sort_values(by = \"Charged Off\",ascending = False).plot(kind='bar')\n",
    "\n",
    "plt.gca().yaxis.set_major_formatter(mtick.PercentFormatter())\n",
    "plt.show()"
   ]
  },
  {
   "cell_type": "markdown",
   "metadata": {},
   "source": [
    "Points :\n",
    "     Maximum defaulter rate is in \"Verified\" Verification status with percentage 17.37 %, 2nd highest is Source Verified 15.0 %"
   ]
  },
  {
   "cell_type": "markdown",
   "metadata": {},
   "source": [
    "## purpose"
   ]
  },
  {
   "cell_type": "markdown",
   "metadata": {},
   "source": [
    "### Univariant Analysis - purpose"
   ]
  },
  {
   "cell_type": "code",
   "execution_count": 103,
   "metadata": {},
   "outputs": [
    {
     "data": {
      "image/png": "[encoded data removed]",
      "text/plain": [
       "<Figure size 576x432 with 1 Axes>"
      ]
     },
     "metadata": {},
     "output_type": "display_data"
    }
   ],
   "source": [
    "plt.figure(figsize=(8, 6))\n",
    "sns.countplot(y=\"purpose\", data=ln)\n",
    "plt.title(\"Different purpose borrower\")\n",
    "plt.show()"
   ]
  },
  {
   "cell_type": "code",
   "execution_count": 354,
   "metadata": {},
   "outputs": [
    {
     "data": {
      "image/png": "[encoded data removed]",
      "text/plain": [
       "<Figure size 864x720 with 1 Axes>"
      ]
     },
     "metadata": {
      "needs_background": "light"
     },
     "output_type": "display_data"
    }
   ],
   "source": [
    "plt.figure(figsize=(12, 10))\n",
    "colors = [\"#FF0B04\", \"#4374B3\"]\n",
    "sns.set_palette(sns.color_palette(colors))\n",
    "sns.countplot(y=\"purpose\", hue=\"loan_status\", data=ln)\n",
    "plt.title(\"Purpose Distribution\")\n",
    "plt.show()"
   ]
  },
  {
   "cell_type": "code",
   "execution_count": 105,
   "metadata": {},
   "outputs": [
    {
     "data": {
      "text/html": [
       "<div>\n",
       "<style scoped>\n",
       "    .dataframe tbody tr th:only-of-type {\n",
       "        vertical-align: middle;\n",
       "    }\n",
       "\n",
       "    .dataframe tbody tr th {\n",
       "        vertical-align: top;\n",
       "    }\n",
       "\n",
       "    .dataframe thead th {\n",
       "        text-align: right;\n",
       "    }\n",
       "</style>\n",
       "<table border=\"1\" class=\"dataframe\">\n",
       "  <thead>\n",
       "    <tr style=\"text-align: right;\">\n",
       "      <th>loan_status</th>\n",
       "      <th>Charged Off</th>\n",
       "      <th>Fully Paid</th>\n",
       "    </tr>\n",
       "    <tr>\n",
       "      <th>purpose</th>\n",
       "      <th></th>\n",
       "      <th></th>\n",
       "    </tr>\n",
       "  </thead>\n",
       "  <tbody>\n",
       "    <tr>\n",
       "      <th>small_business</th>\n",
       "      <td>27.972890</td>\n",
       "      <td>72.027110</td>\n",
       "    </tr>\n",
       "    <tr>\n",
       "      <th>renewable_energy</th>\n",
       "      <td>18.947368</td>\n",
       "      <td>81.052632</td>\n",
       "    </tr>\n",
       "    <tr>\n",
       "      <th>educational</th>\n",
       "      <td>17.363344</td>\n",
       "      <td>82.636656</td>\n",
       "    </tr>\n",
       "    <tr>\n",
       "      <th>other</th>\n",
       "      <td>16.369048</td>\n",
       "      <td>83.630952</td>\n",
       "    </tr>\n",
       "    <tr>\n",
       "      <th>moving</th>\n",
       "      <td>16.363636</td>\n",
       "      <td>83.636364</td>\n",
       "    </tr>\n",
       "  </tbody>\n",
       "</table>\n",
       "</div>"
      ],
      "text/plain": [
       "loan_status       Charged Off  Fully Paid\n",
       "purpose                                  \n",
       "small_business      27.972890   72.027110\n",
       "renewable_energy    18.947368   81.052632\n",
       "educational         17.363344   82.636656\n",
       "other               16.369048   83.630952\n",
       "moving              16.363636   83.636364"
      ]
     },
     "execution_count": 105,
     "metadata": {},
     "output_type": "execute_result"
    }
   ],
   "source": [
    "# To find the maximum percentage defaulter in purpose\n",
    "ln.groupby(['purpose','loan_status']).size().groupby(level=0).apply(lambda x : x*100/x.sum()).unstack().sort_values(by = \"Charged Off\",ascending = False).head()"
   ]
  },
  {
   "cell_type": "markdown",
   "metadata": {},
   "source": [
    "From the we can canclude the Small business has maximum defaulted customer which is 27.97 %"
   ]
  },
  {
   "cell_type": "code",
   "execution_count": 107,
   "metadata": {},
   "outputs": [
    {
     "data": {
      "image/png": "[encoded data removed]",
      "text/plain": [
       "<Figure size 432x288 with 1 Axes>"
      ]
     },
     "metadata": {},
     "output_type": "display_data"
    }
   ],
   "source": [
    "# let up plot the percentage distribution of defaulter and fully paid across all the purpose\n",
    "\n",
    "ln.groupby(['purpose','loan_status']).size().groupby(level=0).apply(lambda x : x*100/x.sum()).unstack().sort_values(by = \"Charged Off\",ascending = False).plot(kind='bar')\n",
    "plt.gca().yaxis.set_major_formatter(mtick.PercentFormatter())\n",
    "plt.show()"
   ]
  },
  {
   "cell_type": "markdown",
   "metadata": {},
   "source": [
    "## Zipcode"
   ]
  },
  {
   "cell_type": "code",
   "execution_count": 108,
   "metadata": {},
   "outputs": [],
   "source": [
    "ln[\"zip_code\"] = ln[\"zip_code\"].str.replace(\"xx\", \"\")"
   ]
  },
  {
   "cell_type": "markdown",
   "metadata": {},
   "source": [
    "### Bivariant analysis:"
   ]
  },
  {
   "cell_type": "code",
   "execution_count": 109,
   "metadata": {},
   "outputs": [
    {
     "data": {
      "text/html": [
       "<div>\n",
       "<style scoped>\n",
       "    .dataframe tbody tr th:only-of-type {\n",
       "        vertical-align: middle;\n",
       "    }\n",
       "\n",
       "    .dataframe tbody tr th {\n",
       "        vertical-align: top;\n",
       "    }\n",
       "\n",
       "    .dataframe thead th {\n",
       "        text-align: right;\n",
       "    }\n",
       "</style>\n",
       "<table border=\"1\" class=\"dataframe\">\n",
       "  <thead>\n",
       "    <tr style=\"text-align: right;\">\n",
       "      <th>loan_status</th>\n",
       "      <th>Charged Off</th>\n",
       "      <th>Fully Paid</th>\n",
       "    </tr>\n",
       "    <tr>\n",
       "      <th>zip_code</th>\n",
       "      <th></th>\n",
       "      <th></th>\n",
       "    </tr>\n",
       "  </thead>\n",
       "  <tbody>\n",
       "    <tr>\n",
       "      <th>999</th>\n",
       "      <td>100.0</td>\n",
       "      <td>NaN</td>\n",
       "    </tr>\n",
       "    <tr>\n",
       "      <th>094</th>\n",
       "      <td>100.0</td>\n",
       "      <td>NaN</td>\n",
       "    </tr>\n",
       "    <tr>\n",
       "      <th>833</th>\n",
       "      <td>100.0</td>\n",
       "      <td>NaN</td>\n",
       "    </tr>\n",
       "    <tr>\n",
       "      <th>385</th>\n",
       "      <td>100.0</td>\n",
       "      <td>NaN</td>\n",
       "    </tr>\n",
       "    <tr>\n",
       "      <th>689</th>\n",
       "      <td>100.0</td>\n",
       "      <td>NaN</td>\n",
       "    </tr>\n",
       "  </tbody>\n",
       "</table>\n",
       "</div>"
      ],
      "text/plain": [
       "loan_status  Charged Off  Fully Paid\n",
       "zip_code                            \n",
       "999                100.0         NaN\n",
       "094                100.0         NaN\n",
       "833                100.0         NaN\n",
       "385                100.0         NaN\n",
       "689                100.0         NaN"
      ]
     },
     "execution_count": 109,
     "metadata": {},
     "output_type": "execute_result"
    }
   ],
   "source": [
    "# ln.groupby(['zip_code','loan_status']).size().groupby(level=0).apply(lambda x : x*100/x.sum()).unstack()\n",
    "ln.groupby(['zip_code','loan_status']).size().groupby(level=0).apply(lambda x : x*100/x.sum()).unstack().sort_values(by = \"Charged Off\",ascending = False).head()"
   ]
  },
  {
   "cell_type": "markdown",
   "metadata": {},
   "source": [
    "## Address State\n",
    "addr_state"
   ]
  },
  {
   "cell_type": "code",
   "execution_count": 110,
   "metadata": {},
   "outputs": [],
   "source": [
    "### Bivariant analysis:"
   ]
  },
  {
   "cell_type": "code",
   "execution_count": 111,
   "metadata": {},
   "outputs": [
    {
     "data": {
      "text/html": [
       "<div>\n",
       "<style scoped>\n",
       "    .dataframe tbody tr th:only-of-type {\n",
       "        vertical-align: middle;\n",
       "    }\n",
       "\n",
       "    .dataframe tbody tr th {\n",
       "        vertical-align: top;\n",
       "    }\n",
       "\n",
       "    .dataframe thead th {\n",
       "        text-align: right;\n",
       "    }\n",
       "</style>\n",
       "<table border=\"1\" class=\"dataframe\">\n",
       "  <thead>\n",
       "    <tr style=\"text-align: right;\">\n",
       "      <th>loan_status</th>\n",
       "      <th>Charged Off</th>\n",
       "      <th>Fully Paid</th>\n",
       "    </tr>\n",
       "    <tr>\n",
       "      <th>addr_state</th>\n",
       "      <th></th>\n",
       "      <th></th>\n",
       "    </tr>\n",
       "  </thead>\n",
       "  <tbody>\n",
       "    <tr>\n",
       "      <th>NE</th>\n",
       "      <td>60.000000</td>\n",
       "      <td>40.000000</td>\n",
       "    </tr>\n",
       "    <tr>\n",
       "      <th>NV</th>\n",
       "      <td>22.538293</td>\n",
       "      <td>77.461707</td>\n",
       "    </tr>\n",
       "    <tr>\n",
       "      <th>ID</th>\n",
       "      <td>20.000000</td>\n",
       "      <td>80.000000</td>\n",
       "    </tr>\n",
       "    <tr>\n",
       "      <th>SD</th>\n",
       "      <td>19.354839</td>\n",
       "      <td>80.645161</td>\n",
       "    </tr>\n",
       "    <tr>\n",
       "      <th>AK</th>\n",
       "      <td>18.309859</td>\n",
       "      <td>81.690141</td>\n",
       "    </tr>\n",
       "  </tbody>\n",
       "</table>\n",
       "</div>"
      ],
      "text/plain": [
       "loan_status  Charged Off  Fully Paid\n",
       "addr_state                          \n",
       "NE             60.000000   40.000000\n",
       "NV             22.538293   77.461707\n",
       "ID             20.000000   80.000000\n",
       "SD             19.354839   80.645161\n",
       "AK             18.309859   81.690141"
      ]
     },
     "execution_count": 111,
     "metadata": {},
     "output_type": "execute_result"
    }
   ],
   "source": [
    "ad_st = ln.groupby(['addr_state','loan_status']).size().groupby(level=0).apply(lambda x : x*100/x.sum()).unstack().sort_values(by = \"Charged Off\",ascending = False).head()\n",
    "ad_st.head()"
   ]
  },
  {
   "cell_type": "markdown",
   "metadata": {},
   "source": [
    "## DTI (Debt to income )\n",
    "dti"
   ]
  },
  {
   "cell_type": "code",
   "execution_count": 113,
   "metadata": {},
   "outputs": [
    {
     "data": {
      "text/plain": [
       "count    36641.000000\n",
       "mean        13.447460\n",
       "std          6.661538\n",
       "min          0.000000\n",
       "25%          8.350000\n",
       "50%         13.580000\n",
       "75%         18.720000\n",
       "max         29.990000\n",
       "Name: dti, dtype: float64"
      ]
     },
     "execution_count": 113,
     "metadata": {},
     "output_type": "execute_result"
    }
   ],
   "source": [
    "ln[\"dti\"].describe()"
   ]
  },
  {
   "cell_type": "markdown",
   "metadata": {},
   "source": [
    "### Univariant Analysis - Installment"
   ]
  },
  {
   "cell_type": "code",
   "execution_count": 114,
   "metadata": {},
   "outputs": [
    {
     "data": {
      "image/png": "[encoded data removed]",
      "text/plain": [
       "<Figure size 360x288 with 1 Axes>"
      ]
     },
     "metadata": {},
     "output_type": "display_data"
    }
   ],
   "source": [
    "# box plot of Installment\n",
    "plt.figure(figsize=(5,4))\n",
    "sns.boxplot(y=ln['dti'])\n",
    "plt.title('dti distribution')\n",
    "plt.show()"
   ]
  },
  {
   "cell_type": "code",
   "execution_count": 115,
   "metadata": {},
   "outputs": [
    {
     "data": {
      "text/html": [
       "<div>\n",
       "<style scoped>\n",
       "    .dataframe tbody tr th:only-of-type {\n",
       "        vertical-align: middle;\n",
       "    }\n",
       "\n",
       "    .dataframe tbody tr th {\n",
       "        vertical-align: top;\n",
       "    }\n",
       "\n",
       "    .dataframe thead th {\n",
       "        text-align: right;\n",
       "    }\n",
       "</style>\n",
       "<table border=\"1\" class=\"dataframe\">\n",
       "  <thead>\n",
       "    <tr style=\"text-align: right;\">\n",
       "      <th></th>\n",
       "      <th>dti</th>\n",
       "    </tr>\n",
       "    <tr>\n",
       "      <th>loan_status</th>\n",
       "      <th></th>\n",
       "    </tr>\n",
       "  </thead>\n",
       "  <tbody>\n",
       "    <tr>\n",
       "      <th>Charged Off</th>\n",
       "      <td>14.107315</td>\n",
       "    </tr>\n",
       "    <tr>\n",
       "      <th>Fully Paid</th>\n",
       "      <td>13.333007</td>\n",
       "    </tr>\n",
       "  </tbody>\n",
       "</table>\n",
       "</div>"
      ],
      "text/plain": [
       "                   dti\n",
       "loan_status           \n",
       "Charged Off  14.107315\n",
       "Fully Paid   13.333007"
      ]
     },
     "execution_count": 115,
     "metadata": {},
     "output_type": "execute_result"
    }
   ],
   "source": [
    "ln.pivot_table(values = 'dti', index = 'loan_status', aggfunc = 'mean')"
   ]
  },
  {
   "cell_type": "code",
   "execution_count": 116,
   "metadata": {},
   "outputs": [
    {
     "data": {
      "text/html": [
       "<div>\n",
       "<style scoped>\n",
       "    .dataframe tbody tr th:only-of-type {\n",
       "        vertical-align: middle;\n",
       "    }\n",
       "\n",
       "    .dataframe tbody tr th {\n",
       "        vertical-align: top;\n",
       "    }\n",
       "\n",
       "    .dataframe thead th {\n",
       "        text-align: right;\n",
       "    }\n",
       "</style>\n",
       "<table border=\"1\" class=\"dataframe\">\n",
       "  <thead>\n",
       "    <tr style=\"text-align: right;\">\n",
       "      <th></th>\n",
       "      <th>dti</th>\n",
       "    </tr>\n",
       "    <tr>\n",
       "      <th>loan_status</th>\n",
       "      <th></th>\n",
       "    </tr>\n",
       "  </thead>\n",
       "  <tbody>\n",
       "    <tr>\n",
       "      <th>Charged Off</th>\n",
       "      <td>29.85</td>\n",
       "    </tr>\n",
       "    <tr>\n",
       "      <th>Fully Paid</th>\n",
       "      <td>29.99</td>\n",
       "    </tr>\n",
       "  </tbody>\n",
       "</table>\n",
       "</div>"
      ],
      "text/plain": [
       "               dti\n",
       "loan_status       \n",
       "Charged Off  29.85\n",
       "Fully Paid   29.99"
      ]
     },
     "execution_count": 116,
     "metadata": {},
     "output_type": "execute_result"
    }
   ],
   "source": [
    "ln.pivot_table(values = 'dti', index = 'loan_status', aggfunc = 'max')"
   ]
  },
  {
   "cell_type": "markdown",
   "metadata": {},
   "source": [
    "### Bivariant analysis: dti"
   ]
  },
  {
   "cell_type": "code",
   "execution_count": 117,
   "metadata": {},
   "outputs": [
    {
     "data": {
      "image/png": "[encoded data removed]",
      "text/plain": [
       "<Figure size 576x432 with 1 Axes>"
      ]
     },
     "metadata": {},
     "output_type": "display_data"
    }
   ],
   "source": [
    "plt.figure(figsize=(8, 6))\n",
    "sns.boxplot(x='loan_status', y='dti', data=ln)\n",
    "plt.title(\"DTI\")\n",
    "# plt.yscale('log')\n",
    "plt.show()"
   ]
  },
  {
   "cell_type": "code",
   "execution_count": 118,
   "metadata": {},
   "outputs": [
    {
     "data": {
      "image/png": "[encoded data removed]",
      "text/plain": [
       "<Figure size 576x432 with 1 Axes>"
      ]
     },
     "metadata": {},
     "output_type": "display_data"
    }
   ],
   "source": [
    "plt.figure(figsize=(8, 6))\n",
    "\n",
    "# subplot 1: loan amount\n",
    "\n",
    "sns.barplot(x='loan_status', y='dti', data=ln)\n",
    "plt.title(\"DTI\")\n",
    "\n",
    "plt.show()"
   ]
  },
  {
   "cell_type": "markdown",
   "metadata": {},
   "source": [
    "Point :\n",
    "    From this we can conclude that custumer which is having high debt value(high dti with low income) will more chance of defaulter."
   ]
  },
  {
   "cell_type": "markdown",
   "metadata": {},
   "source": [
    "## earliest crdeit line\n",
    "earliest_cr_line"
   ]
  },
  {
   "cell_type": "code",
   "execution_count": 119,
   "metadata": {},
   "outputs": [
    {
     "data": {
      "text/plain": [
       "count      36641\n",
       "unique       522\n",
       "top       Oct-99\n",
       "freq         352\n",
       "Name: earliest_cr_line, dtype: object"
      ]
     },
     "execution_count": 119,
     "metadata": {},
     "output_type": "execute_result"
    }
   ],
   "source": [
    "ln[\"earliest_cr_line\"].describe()"
   ]
  },
  {
   "cell_type": "markdown",
   "metadata": {},
   "source": [
    "## inquiries in past 6 months\n",
    "inq_last_6mths"
   ]
  },
  {
   "cell_type": "code",
   "execution_count": 120,
   "metadata": {},
   "outputs": [],
   "source": [
    "ln[\"inq_last_6mths\"] = ln[\"inq_last_6mths\"].apply(lambda x : str(x))"
   ]
  },
  {
   "cell_type": "code",
   "execution_count": 121,
   "metadata": {},
   "outputs": [
    {
     "data": {
      "text/plain": [
       "count     36641\n",
       "unique        9\n",
       "top           0\n",
       "freq      17857\n",
       "Name: inq_last_6mths, dtype: object"
      ]
     },
     "execution_count": 121,
     "metadata": {},
     "output_type": "execute_result"
    }
   ],
   "source": [
    "ln[\"inq_last_6mths\"].describe()\n"
   ]
  },
  {
   "cell_type": "markdown",
   "metadata": {},
   "source": [
    "### Univariant Analysis"
   ]
  },
  {
   "cell_type": "code",
   "execution_count": 122,
   "metadata": {},
   "outputs": [
    {
     "data": {
      "image/png": "[encoded data removed]",
      "text/plain": [
       "<Figure size 288x216 with 1 Axes>"
      ]
     },
     "metadata": {},
     "output_type": "display_data"
    }
   ],
   "source": [
    "plt.figure(figsize=(4, 3))\n",
    "sns.countplot(y=\"inq_last_6mths\", data=ln)\n",
    "plt.title(\"Different term count\")\n",
    "plt.show()"
   ]
  },
  {
   "cell_type": "code",
   "execution_count": 370,
   "metadata": {},
   "outputs": [
    {
     "data": {
      "image/png": "[encoded data removed]",
      "text/plain": [
       "<Figure size 576x432 with 1 Axes>"
      ]
     },
     "metadata": {
      "needs_background": "light"
     },
     "output_type": "display_data"
    }
   ],
   "source": [
    "plt.figure(figsize=(8, 6))\n",
    "\n",
    "sns.countplot(y=\"inq_last_6mths\", hue=\"loan_status\", data=ln)\n",
    "plt.title(\"inquiries in past 6 months\")\n",
    "plt.show()"
   ]
  },
  {
   "cell_type": "markdown",
   "metadata": {},
   "source": [
    "### Bivariant analysis"
   ]
  },
  {
   "cell_type": "code",
   "execution_count": 373,
   "metadata": {},
   "outputs": [
    {
     "data": {
      "text/html": [
       "<div>\n",
       "<style scoped>\n",
       "    .dataframe tbody tr th:only-of-type {\n",
       "        vertical-align: middle;\n",
       "    }\n",
       "\n",
       "    .dataframe tbody tr th {\n",
       "        vertical-align: top;\n",
       "    }\n",
       "\n",
       "    .dataframe thead th {\n",
       "        text-align: right;\n",
       "    }\n",
       "</style>\n",
       "<table border=\"1\" class=\"dataframe\">\n",
       "  <thead>\n",
       "    <tr style=\"text-align: right;\">\n",
       "      <th>loan_status</th>\n",
       "      <th>Charged Off</th>\n",
       "      <th>Fully Paid</th>\n",
       "    </tr>\n",
       "    <tr>\n",
       "      <th>inq_last_6mths</th>\n",
       "      <th></th>\n",
       "      <th></th>\n",
       "    </tr>\n",
       "  </thead>\n",
       "  <tbody>\n",
       "    <tr>\n",
       "      <th>7</th>\n",
       "      <td>31.250000</td>\n",
       "      <td>68.750000</td>\n",
       "    </tr>\n",
       "    <tr>\n",
       "      <th>8</th>\n",
       "      <td>30.000000</td>\n",
       "      <td>70.000000</td>\n",
       "    </tr>\n",
       "    <tr>\n",
       "      <th>6</th>\n",
       "      <td>26.785714</td>\n",
       "      <td>73.214286</td>\n",
       "    </tr>\n",
       "  </tbody>\n",
       "</table>\n",
       "</div>"
      ],
      "text/plain": [
       "loan_status     Charged Off  Fully Paid\n",
       "inq_last_6mths                         \n",
       "7                 31.250000   68.750000\n",
       "8                 30.000000   70.000000\n",
       "6                 26.785714   73.214286"
      ]
     },
     "execution_count": 373,
     "metadata": {},
     "output_type": "execute_result"
    }
   ],
   "source": [
    "# To find the maximum percentage defaulter in customer who inquiries in past 6 months\n",
    "ln.groupby(['inq_last_6mths','loan_status']).size().groupby(level=0).apply(lambda x : x*100/x.sum()).unstack().sort_values(by = \"Charged Off\",ascending = False).head(3)"
   ]
  },
  {
   "cell_type": "code",
   "execution_count": 380,
   "metadata": {},
   "outputs": [
    {
     "data": {
      "image/png": "[encoded data removed]",
      "text/plain": [
       "<Figure size 432x288 with 1 Axes>"
      ]
     },
     "metadata": {
      "needs_background": "light"
     },
     "output_type": "display_data"
    }
   ],
   "source": [
    "# lets plot with percentage \n",
    "ln.groupby(['inq_last_6mths','loan_status']).size().groupby(level=0).apply(lambda x : x*100/x.sum()).unstack().sort_values(by = \"Charged Off\",ascending = True).plot(kind='bar')\n",
    "\n",
    "plt.gca().yaxis.set_major_formatter(mtick.PercentFormatter())\n",
    "plt.show()"
   ]
  },
  {
   "cell_type": "markdown",
   "metadata": {},
   "source": [
    "Points :\n",
    "Borrower with 7 inquires has maximum chance of default"
   ]
  },
  {
   "cell_type": "markdown",
   "metadata": {},
   "source": [
    "## Open Account - Number of credit line\n",
    "open_acc"
   ]
  },
  {
   "cell_type": "markdown",
   "metadata": {},
   "source": [
    "### Univariant Analysis - Open_acc"
   ]
  },
  {
   "cell_type": "code",
   "execution_count": 123,
   "metadata": {},
   "outputs": [
    {
     "data": {
      "image/png": "[encoded data removed]",
      "text/plain": [
       "<Figure size 864x720 with 1 Axes>"
      ]
     },
     "metadata": {},
     "output_type": "display_data"
    }
   ],
   "source": [
    "plt.figure(figsize=(12, 10))\n",
    "sns.countplot(y=\"open_acc\", data=ln)\n",
    "plt.title(\"open_acc\")\n",
    "plt.show()"
   ]
  },
  {
   "cell_type": "markdown",
   "metadata": {},
   "source": [
    "### Bivariant analysis:"
   ]
  },
  {
   "cell_type": "code",
   "execution_count": 378,
   "metadata": {},
   "outputs": [
    {
     "data": {
      "text/html": [
       "<div>\n",
       "<style scoped>\n",
       "    .dataframe tbody tr th:only-of-type {\n",
       "        vertical-align: middle;\n",
       "    }\n",
       "\n",
       "    .dataframe tbody tr th {\n",
       "        vertical-align: top;\n",
       "    }\n",
       "\n",
       "    .dataframe thead th {\n",
       "        text-align: right;\n",
       "    }\n",
       "</style>\n",
       "<table border=\"1\" class=\"dataframe\">\n",
       "  <thead>\n",
       "    <tr style=\"text-align: right;\">\n",
       "      <th>loan_status</th>\n",
       "      <th>Charged Off</th>\n",
       "      <th>Fully Paid</th>\n",
       "    </tr>\n",
       "    <tr>\n",
       "      <th>open_acc</th>\n",
       "      <th></th>\n",
       "      <th></th>\n",
       "    </tr>\n",
       "  </thead>\n",
       "  <tbody>\n",
       "    <tr>\n",
       "      <th>38</th>\n",
       "      <td>100.000000</td>\n",
       "      <td>NaN</td>\n",
       "    </tr>\n",
       "    <tr>\n",
       "      <th>33</th>\n",
       "      <td>66.666667</td>\n",
       "      <td>33.333333</td>\n",
       "    </tr>\n",
       "    <tr>\n",
       "      <th>31</th>\n",
       "      <td>50.000000</td>\n",
       "      <td>50.000000</td>\n",
       "    </tr>\n",
       "    <tr>\n",
       "      <th>28</th>\n",
       "      <td>23.809524</td>\n",
       "      <td>76.190476</td>\n",
       "    </tr>\n",
       "    <tr>\n",
       "      <th>27</th>\n",
       "      <td>23.809524</td>\n",
       "      <td>76.190476</td>\n",
       "    </tr>\n",
       "  </tbody>\n",
       "</table>\n",
       "</div>"
      ],
      "text/plain": [
       "loan_status  Charged Off  Fully Paid\n",
       "open_acc                            \n",
       "38            100.000000         NaN\n",
       "33             66.666667   33.333333\n",
       "31             50.000000   50.000000\n",
       "28             23.809524   76.190476\n",
       "27             23.809524   76.190476"
      ]
     },
     "execution_count": 378,
     "metadata": {},
     "output_type": "execute_result"
    }
   ],
   "source": [
    "# To find the maximum percentage defaulter in purpose\n",
    "ln.groupby(['open_acc','loan_status']).size().groupby(level=0).apply(lambda x : x*100/x.sum()).unstack().sort_values(by = \"Charged Off\",ascending = False).head()"
   ]
  },
  {
   "cell_type": "code",
   "execution_count": 384,
   "metadata": {},
   "outputs": [
    {
     "data": {
      "image/png": "[encoded data removed]",
      "text/plain": [
       "<Figure size 432x288 with 1 Axes>"
      ]
     },
     "metadata": {
      "needs_background": "light"
     },
     "output_type": "display_data"
    }
   ],
   "source": [
    "#Plot with percentage \n",
    "ln.groupby(['open_acc','loan_status']).size().groupby(level=0).apply(lambda x : x*100/x.sum()).unstack().sort_values(by = \"Charged Off\",ascending = False).head(10).plot(kind='bar')\n",
    "\n",
    "plt.gca().yaxis.set_major_formatter(mtick.PercentFormatter())\n",
    "plt.show()"
   ]
  },
  {
   "cell_type": "markdown",
   "metadata": {},
   "source": [
    "Points :\n",
    "    more the open account, more the chance of defaulter from the above plot we can verify"
   ]
  },
  {
   "cell_type": "markdown",
   "metadata": {},
   "source": [
    " ## Total number of credit lines\n",
    "total_acc"
   ]
  },
  {
   "cell_type": "code",
   "execution_count": 389,
   "metadata": {
    "scrolled": true
   },
   "outputs": [
    {
     "data": {
      "text/html": [
       "<div>\n",
       "<style scoped>\n",
       "    .dataframe tbody tr th:only-of-type {\n",
       "        vertical-align: middle;\n",
       "    }\n",
       "\n",
       "    .dataframe tbody tr th {\n",
       "        vertical-align: top;\n",
       "    }\n",
       "\n",
       "    .dataframe thead th {\n",
       "        text-align: right;\n",
       "    }\n",
       "</style>\n",
       "<table border=\"1\" class=\"dataframe\">\n",
       "  <thead>\n",
       "    <tr style=\"text-align: right;\">\n",
       "      <th>loan_status</th>\n",
       "      <th>Charged Off</th>\n",
       "      <th>Fully Paid</th>\n",
       "    </tr>\n",
       "    <tr>\n",
       "      <th>total_acc</th>\n",
       "      <th></th>\n",
       "      <th></th>\n",
       "    </tr>\n",
       "  </thead>\n",
       "  <tbody>\n",
       "    <tr>\n",
       "      <th>74</th>\n",
       "      <td>100.000000</td>\n",
       "      <td>NaN</td>\n",
       "    </tr>\n",
       "    <tr>\n",
       "      <th>70</th>\n",
       "      <td>100.000000</td>\n",
       "      <td>NaN</td>\n",
       "    </tr>\n",
       "    <tr>\n",
       "      <th>60</th>\n",
       "      <td>36.842105</td>\n",
       "      <td>63.157895</td>\n",
       "    </tr>\n",
       "    <tr>\n",
       "      <th>2</th>\n",
       "      <td>33.333333</td>\n",
       "      <td>66.666667</td>\n",
       "    </tr>\n",
       "    <tr>\n",
       "      <th>66</th>\n",
       "      <td>25.000000</td>\n",
       "      <td>75.000000</td>\n",
       "    </tr>\n",
       "    <tr>\n",
       "      <th>3</th>\n",
       "      <td>23.595506</td>\n",
       "      <td>76.404494</td>\n",
       "    </tr>\n",
       "    <tr>\n",
       "      <th>43</th>\n",
       "      <td>20.361991</td>\n",
       "      <td>79.638009</td>\n",
       "    </tr>\n",
       "    <tr>\n",
       "      <th>45</th>\n",
       "      <td>19.496855</td>\n",
       "      <td>80.503145</td>\n",
       "    </tr>\n",
       "    <tr>\n",
       "      <th>4</th>\n",
       "      <td>19.082126</td>\n",
       "      <td>80.917874</td>\n",
       "    </tr>\n",
       "    <tr>\n",
       "      <th>33</th>\n",
       "      <td>18.246869</td>\n",
       "      <td>81.753131</td>\n",
       "    </tr>\n",
       "  </tbody>\n",
       "</table>\n",
       "</div>"
      ],
      "text/plain": [
       "loan_status  Charged Off  Fully Paid\n",
       "total_acc                           \n",
       "74            100.000000         NaN\n",
       "70            100.000000         NaN\n",
       "60             36.842105   63.157895\n",
       "2              33.333333   66.666667\n",
       "66             25.000000   75.000000\n",
       "3              23.595506   76.404494\n",
       "43             20.361991   79.638009\n",
       "45             19.496855   80.503145\n",
       "4              19.082126   80.917874\n",
       "33             18.246869   81.753131"
      ]
     },
     "execution_count": 389,
     "metadata": {},
     "output_type": "execute_result"
    }
   ],
   "source": [
    "# To find the maximum percentage defaulter in purpose\n",
    "ln.groupby(['total_acc','loan_status']).size().groupby(level=0).apply(lambda x : x*100/x.sum()).unstack().sort_values(by = \"Charged Off\",ascending = False).head(10)"
   ]
  },
  {
   "cell_type": "markdown",
   "metadata": {},
   "source": [
    "Points : \n",
    "    \n",
    "    There is no pattern for total number of credit lines where customer is defaulter"
   ]
  }
 ],
 "metadata": {
  "kernelspec": {
   "display_name": "Python 3",
   "language": "python",
   "name": "python3"
  },
  "language_info": {
   "codemirror_mode": {
    "name": "ipython",
    "version": 3
   },
   "file_extension": ".py",
   "mimetype": "text/x-python",
   "name": "python",
   "nbconvert_exporter": "python",
   "pygments_lexer": "ipython3",
   "version": "3.7.3"
  }
 },
 "nbformat": 4,
 "nbformat_minor": 2
}
